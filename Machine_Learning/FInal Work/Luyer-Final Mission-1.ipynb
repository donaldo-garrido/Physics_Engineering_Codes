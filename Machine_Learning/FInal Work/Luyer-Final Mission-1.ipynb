{
 "cells": [
  {
   "cell_type": "markdown",
   "metadata": {},
   "source": [
    "# Final Mission\n",
    "\n",
    "In your final mission in this machine learning journey, you will try to guess how many clusters the data you will be working with has. To do this, you will use several clustering algorithms and heuristics. For now, two things: classes in the data are roughly balanced; you will need the following modules and libraries."
   ]
  },
  {
   "cell_type": "code",
   "execution_count": 13,
   "metadata": {},
   "outputs": [],
   "source": [
    "import numpy as np\n",
    "import matplotlib.pyplot as plt\n",
    "import pandas as pd\n",
    "import scipy.cluster.hierarchy as shc\n",
    "\n",
    "from sklearn.model_selection import train_test_split\n",
    "from sklearn.cluster import KMeans\n",
    "from sklearn.cluster import AgglomerativeClustering\n",
    "from sklearn.metrics import confusion_matrix\n",
    "from sklearn.metrics import accuracy_score"
   ]
  },
  {
   "cell_type": "markdown",
   "metadata": {},
   "source": [
    "Load the `X_train.csv` file as a `Pandas` dataframe."
   ]
  },
  {
   "cell_type": "code",
   "execution_count": 14,
   "metadata": {},
   "outputs": [
    {
     "data": {
      "text/html": [
       "<div>\n",
       "<style scoped>\n",
       "    .dataframe tbody tr th:only-of-type {\n",
       "        vertical-align: middle;\n",
       "    }\n",
       "\n",
       "    .dataframe tbody tr th {\n",
       "        vertical-align: top;\n",
       "    }\n",
       "\n",
       "    .dataframe thead th {\n",
       "        text-align: right;\n",
       "    }\n",
       "</style>\n",
       "<table border=\"1\" class=\"dataframe\">\n",
       "  <thead>\n",
       "    <tr style=\"text-align: right;\">\n",
       "      <th></th>\n",
       "      <th>variance</th>\n",
       "      <th>skewness</th>\n",
       "      <th>kurtosis</th>\n",
       "      <th>entropy</th>\n",
       "    </tr>\n",
       "  </thead>\n",
       "  <tbody>\n",
       "    <tr>\n",
       "      <th>0</th>\n",
       "      <td>1.95720</td>\n",
       "      <td>-5.11530</td>\n",
       "      <td>8.61270</td>\n",
       "      <td>-1.42970</td>\n",
       "    </tr>\n",
       "    <tr>\n",
       "      <th>1</th>\n",
       "      <td>0.12126</td>\n",
       "      <td>0.22347</td>\n",
       "      <td>-0.47327</td>\n",
       "      <td>0.97024</td>\n",
       "    </tr>\n",
       "    <tr>\n",
       "      <th>2</th>\n",
       "      <td>3.99940</td>\n",
       "      <td>0.90427</td>\n",
       "      <td>1.16930</td>\n",
       "      <td>1.68920</td>\n",
       "    </tr>\n",
       "    <tr>\n",
       "      <th>3</th>\n",
       "      <td>3.81970</td>\n",
       "      <td>8.99510</td>\n",
       "      <td>-4.38300</td>\n",
       "      <td>-4.03270</td>\n",
       "    </tr>\n",
       "    <tr>\n",
       "      <th>4</th>\n",
       "      <td>3.46470</td>\n",
       "      <td>-3.91720</td>\n",
       "      <td>3.97460</td>\n",
       "      <td>0.36119</td>\n",
       "    </tr>\n",
       "  </tbody>\n",
       "</table>\n",
       "</div>"
      ],
      "text/plain": [
       "   variance  skewness  kurtosis  entropy\n",
       "0   1.95720  -5.11530   8.61270 -1.42970\n",
       "1   0.12126   0.22347  -0.47327  0.97024\n",
       "2   3.99940   0.90427   1.16930  1.68920\n",
       "3   3.81970   8.99510  -4.38300 -4.03270\n",
       "4   3.46470  -3.91720   3.97460  0.36119"
      ]
     },
     "execution_count": 14,
     "metadata": {},
     "output_type": "execute_result"
    }
   ],
   "source": [
    "X_train = pd.read_csv('X_train.csv')\n",
    "X_train.head()"
   ]
  },
  {
   "cell_type": "markdown",
   "metadata": {},
   "source": [
    "## K-Means and The Elbow Method\n",
    "\n",
    "Implement the **elbow method**, using **K.Means**, and make a guess regarding the number of cluster that the data has. Do this in the following cell."
   ]
  },
  {
   "cell_type": "code",
   "execution_count": 15,
   "metadata": {},
   "outputs": [
    {
     "data": {
      "image/png": "[encoded data removed]",
      "text/plain": [
       "<Figure size 576x360 with 1 Axes>"
      ]
     },
     "metadata": {
      "needs_background": "light"
     },
     "output_type": "display_data"
    }
   ],
   "source": [
    "W = []\n",
    "K = range(1,10)\n",
    "\n",
    "for k in K:\n",
    "    kmeans = KMeans(n_clusters=k)\n",
    "    kmeans.fit(X_train)\n",
    "    W.append(kmeans.inertia_)\n",
    "    \n",
    "plt.figure(figsize=(8,5))\n",
    "plt.plot(K, W, 'bx-')\n",
    "plt.xlabel('K')\n",
    "plt.ylabel('W')\n",
    "plt.title('The Elbow Method showing the optimal K')\n",
    "plt.show()"
   ]
  },
  {
   "cell_type": "markdown",
   "metadata": {},
   "source": [
    "According to this method, how many clusters do you think you are dealing with? Justify your answer.\n",
    "\n",
    "**Answer:** 3"
   ]
  },
  {
   "cell_type": "markdown",
   "metadata": {},
   "source": [
    "## Heriarchical Clustering and The Dendrograms\n",
    "\n",
    "Use the `AgglomerativeClustering` object to perform a hierarchical clustering using a bottom up approach. Keep in mind that the linkage criteria determines the metric used for the merge strategy:\n",
    "\n",
    "- **Ward:** It minimizes the sum of squared differences within all clusters. \n",
    "\n",
    "- **Maximum or complete linkage:** It minimizes the maximum distance between observations of pairs of clusters.\n",
    "\n",
    "- **Average linkage:** It minimizes the average of the distances between all observations of pairs of clusters.\n",
    "\n",
    "- **Single linkage:** It minimizes the distance between the closest observations of pairs of clusters.\n",
    "\n",
    "Use these four options to plot the four possible dendrograms that you can have. Write the code to do this in the following cell."
   ]
  },
  {
   "cell_type": "code",
   "execution_count": 52,
   "metadata": {},
   "outputs": [],
   "source": [
    "links = ['ward', 'complete', 'average', 'single']\n",
    "HC = {}\n",
    "\n",
    "for link in links:\n",
    "    clustering = AgglomerativeClustering(linkage=link).fit(X_train)\n",
    "    HC[link] = clustering\n"
   ]
  },
  {
   "cell_type": "code",
   "execution_count": 53,
   "metadata": {},
   "outputs": [
    {
     "data": {
      "text/plain": [
       "array([0, 0, 0, ..., 0, 0, 0])"
      ]
     },
     "execution_count": 53,
     "metadata": {},
     "output_type": "execute_result"
    }
   ],
   "source": [
    "HC['ward'].labels_"
   ]
  },
  {
   "cell_type": "code",
   "execution_count": 51,
   "metadata": {},
   "outputs": [
    {
     "data": {
      "image/png": "[encoded data removed]",
      "text/plain": [
       "<Figure size 720x576 with 4 Axes>"
      ]
     },
     "metadata": {
      "needs_background": "light"
     },
     "output_type": "display_data"
    }
   ],
   "source": [
    "fig, axes = plt.subplots(2, 2, figsize=(10, 8))\n",
    "fig.subplots_adjust(hspace=0.4, wspace=0.2)\n",
    "n = 4\n",
    "\n",
    "for n, link in enumerate(links):\n",
    "    i, j = divmod(n, 2)\n",
    "    shc.dendrogram(shc.linkage(X_train, method=link), ax=axes[i, j])\n",
    "    axes[i, j].set_title(link)\n",
    "\n",
    "plt.show()"
   ]
  },
  {
   "cell_type": "markdown",
   "metadata": {},
   "source": [
    "By taking a look at the dendrograms, make an educated guess about the number of classes that we have in the data. Justify your answer.\n",
    "\n",
    "**Answer:**"
   ]
  },
  {
   "cell_type": "markdown",
   "metadata": {},
   "source": [
    "## Creating the labels\n",
    "\n",
    "Out of the clustering methods you tried before, pick the one you consider is the best one for creating the labels of the data. Do this in the following cell and store the labels in a variable named `y_train`."
   ]
  },
  {
   "cell_type": "code",
   "execution_count": 54,
   "metadata": {},
   "outputs": [],
   "source": [
    "kmeans = KMeans(n_clusters=3)\n",
    "kmeans.fit(X_train)\n",
    "\n",
    "y_train = kmeans.labels_"
   ]
  },
  {
   "cell_type": "markdown",
   "metadata": {},
   "source": [
    "Now load the `X_test.csv` file as a `Pandas` dataframe."
   ]
  },
  {
   "cell_type": "code",
   "execution_count": 55,
   "metadata": {},
   "outputs": [
    {
     "data": {
      "text/html": [
       "<div>\n",
       "<style scoped>\n",
       "    .dataframe tbody tr th:only-of-type {\n",
       "        vertical-align: middle;\n",
       "    }\n",
       "\n",
       "    .dataframe tbody tr th {\n",
       "        vertical-align: top;\n",
       "    }\n",
       "\n",
       "    .dataframe thead th {\n",
       "        text-align: right;\n",
       "    }\n",
       "</style>\n",
       "<table border=\"1\" class=\"dataframe\">\n",
       "  <thead>\n",
       "    <tr style=\"text-align: right;\">\n",
       "      <th></th>\n",
       "      <th>variance</th>\n",
       "      <th>skewness</th>\n",
       "      <th>kurtosis</th>\n",
       "      <th>entropy</th>\n",
       "    </tr>\n",
       "  </thead>\n",
       "  <tbody>\n",
       "    <tr>\n",
       "      <th>0</th>\n",
       "      <td>0.64295</td>\n",
       "      <td>7.1018</td>\n",
       "      <td>0.34930</td>\n",
       "      <td>-0.41337</td>\n",
       "    </tr>\n",
       "    <tr>\n",
       "      <th>1</th>\n",
       "      <td>2.30660</td>\n",
       "      <td>3.5364</td>\n",
       "      <td>0.57551</td>\n",
       "      <td>0.41938</td>\n",
       "    </tr>\n",
       "    <tr>\n",
       "      <th>2</th>\n",
       "      <td>-3.57410</td>\n",
       "      <td>3.9440</td>\n",
       "      <td>-0.07912</td>\n",
       "      <td>-2.12030</td>\n",
       "    </tr>\n",
       "    <tr>\n",
       "      <th>3</th>\n",
       "      <td>3.95290</td>\n",
       "      <td>-2.3548</td>\n",
       "      <td>2.37920</td>\n",
       "      <td>0.48274</td>\n",
       "    </tr>\n",
       "    <tr>\n",
       "      <th>4</th>\n",
       "      <td>0.74307</td>\n",
       "      <td>11.1700</td>\n",
       "      <td>-1.38240</td>\n",
       "      <td>-4.07280</td>\n",
       "    </tr>\n",
       "  </tbody>\n",
       "</table>\n",
       "</div>"
      ],
      "text/plain": [
       "   variance  skewness  kurtosis  entropy\n",
       "0   0.64295    7.1018   0.34930 -0.41337\n",
       "1   2.30660    3.5364   0.57551  0.41938\n",
       "2  -3.57410    3.9440  -0.07912 -2.12030\n",
       "3   3.95290   -2.3548   2.37920  0.48274\n",
       "4   0.74307   11.1700  -1.38240 -4.07280"
      ]
     },
     "execution_count": 55,
     "metadata": {},
     "output_type": "execute_result"
    }
   ],
   "source": [
    "X_test = pd.read_csv('X_test.csv')\n",
    "X_test.head()"
   ]
  },
  {
   "cell_type": "markdown",
   "metadata": {},
   "source": [
    "In the following cell of code repeat the process of creating the labels, but do this for `X_test`. Store these labels in a variable named `y_test`."
   ]
  },
  {
   "cell_type": "code",
   "execution_count": 57,
   "metadata": {
    "jupyter": {
     "outputs_hidden": true
    },
    "tags": []
   },
   "outputs": [],
   "source": [
    "kmeans.fit(X_test)\n",
    "y_test = kmeans.labels_"
   ]
  },
  {
   "cell_type": "markdown",
   "metadata": {},
   "source": [
    "## Classification\n",
    "\n",
    "At this point you should have labeled your data, so supervised learning can enter the room. You will train two machine learning models: **logistic regression** and **decision trees**. To do this, you will use the modules from `scikit-learn` known as `LogisticRegression` and `DecissionTreeClassifier`. Both methods can handle either binary or multiple classification, so if you think there are two groups in the data you will be doing binary classification, if you think thre are three or more you will perform multiple classification. For more information on these methods, click on the links below in the **references** section. \n",
    "\n",
    "In the following cell, write the code to train the `LogisticRegression` model."
   ]
  },
  {
   "cell_type": "code",
   "execution_count": 59,
   "metadata": {},
   "outputs": [
    {
     "data": {
      "text/plain": [
       "LogisticRegression()"
      ]
     },
     "execution_count": 59,
     "metadata": {},
     "output_type": "execute_result"
    }
   ],
   "source": [
    "from sklearn.linear_model import LogisticRegression\n",
    "\n",
    "lr_model = LogisticRegression()\n",
    "lr_model.fit(X_train, y_train)"
   ]
  },
  {
   "cell_type": "markdown",
   "metadata": {},
   "source": [
    "Keep on the training but now with the `DecissionTreeClassifier` model."
   ]
  },
  {
   "cell_type": "code",
   "execution_count": 60,
   "metadata": {},
   "outputs": [
    {
     "data": {
      "text/plain": [
       "DecisionTreeClassifier()"
      ]
     },
     "execution_count": 60,
     "metadata": {},
     "output_type": "execute_result"
    }
   ],
   "source": [
    "from sklearn.tree import DecisionTreeClassifier\n",
    "\n",
    "dt_model = DecisionTreeClassifier()\n",
    "dt_model.fit(X_train,y_train)"
   ]
  },
  {
   "cell_type": "markdown",
   "metadata": {},
   "source": [
    "## Evaluation\n",
    "\n",
    "Evaluate the models that you trained in the previous section using a `confusion_matrix` and an `accuracy_score` as evaluation metric. Evaluate first the `LogisticRegression` model."
   ]
  },
  {
   "cell_type": "code",
   "execution_count": 88,
   "metadata": {},
   "outputs": [],
   "source": [
    "from sklearn.metrics import ConfusionMatrixDisplay\n",
    "def accuracy(y_test, y_pred):\n",
    "    \n",
    "    \"\"\"\n",
    "    Write a function that computes the accuracy of your model based on its predictions \n",
    "    and the true labels that are stored in y_test.\n",
    "    \"\"\"\n",
    "    cm=confusion_matrix(y_test, y_pred)\n",
    "    print(cm)\n",
    "    accuracy=(cm[0,0]+cm[1,1]+cm[2,2])/(np.sum(cm))\n",
    "    disp=ConfusionMatrixDisplay(cm)\n",
    "    disp.plot(); plt.show()\n",
    "    return accuracy"
   ]
  },
  {
   "cell_type": "code",
   "execution_count": 90,
   "metadata": {},
   "outputs": [
    {
     "name": "stdout",
     "output_type": "stream",
     "text": [
      "[[104   0   5]\n",
      " [ 16 111   0]\n",
      " [  0   0  39]]\n"
     ]
    },
    {
     "data": {
      "image/png": "[encoded data removed]",
      "text/plain": [
       "<Figure size 432x288 with 2 Axes>"
      ]
     },
     "metadata": {
      "needs_background": "light"
     },
     "output_type": "display_data"
    },
    {
     "data": {
      "text/plain": [
       "0.9236363636363636"
      ]
     },
     "execution_count": 90,
     "metadata": {},
     "output_type": "execute_result"
    }
   ],
   "source": [
    "accuracy(y_test, lr_model.predict(X_test))"
   ]
  },
  {
   "cell_type": "markdown",
   "metadata": {},
   "source": [
    "Same evaluation procedure for the `DecissionTreeClassifier` in the following cell."
   ]
  },
  {
   "cell_type": "code",
   "execution_count": 91,
   "metadata": {},
   "outputs": [
    {
     "name": "stdout",
     "output_type": "stream",
     "text": [
      "[[102   0   7]\n",
      " [ 15 112   0]\n",
      " [  0   0  39]]\n"
     ]
    },
    {
     "data": {
      "image/png": "[encoded data removed]",
      "text/plain": [
       "<Figure size 432x288 with 2 Axes>"
      ]
     },
     "metadata": {
      "needs_background": "light"
     },
     "output_type": "display_data"
    },
    {
     "data": {
      "text/plain": [
       "0.92"
      ]
     },
     "execution_count": 91,
     "metadata": {},
     "output_type": "execute_result"
    }
   ],
   "source": [
    "accuracy(y_test, dt_model.predict(X_test))"
   ]
  },
  {
   "cell_type": "markdown",
   "metadata": {},
   "source": [
    "## Conclusions\n",
    "\n",
    "Analyze and interpret the results that were obtained in this section. \n",
    "\n",
    "**Final remarks:**"
   ]
  },
  {
   "cell_type": "markdown",
   "metadata": {},
   "source": [
    "## The End\n",
    "\n",
    "If you got to this point, congratulations! Did you guess the number of clusters correctly? You will find out soon enough. I hope you enjoyed the course and learned a lot. For now, best of luck and enjoy the holidays. See you around. \n",
    "\n",
    "## References\n",
    "\n",
    "[1] *Hastie, T., Tibshirani, R., Friedman, J. H., \"The elements of statistical learning: data mining, inference, and prediction,\" New York, Springer, 2009.*\n",
    "\n",
    "[2] https://scikit-learn.org/stable/modules/generated/sklearn.linear_model.LogisticRegression.html\n",
    "\n",
    "[3] https://scikit-learn.org/stable/modules/generated/sklearn.tree.DecisionTreeClassifier.html#sklearn.tree.DecisionTreeClassifier \n",
    "\n",
    "[4] https://scikit-learn.org/stable/modules/generated/sklearn.metrics.confusion_matrix.html?highlight=confusion+matrix#sklearn.metrics.confusion_matrix\n",
    "\n",
    "[5] https://scikit-learn.org/stable/modules/generated/sklearn.metrics.accuracy_score.html#sklearn.metrics.accuracy_score"
   ]
  }
 ],
 "metadata": {
  "environment": {
   "kernel": "python3",
   "name": "common-cpu.m82",
   "type": "gcloud",
   "uri": "gcr.io/deeplearning-platform-release/base-cpu:m82"
  },
  "hide_input": false,
  "kernelspec": {
   "display_name": "Python 3.9.7 ('base')",
   "language": "python",
   "name": "python3"
  },
  "language_info": {
   "codemirror_mode": {
    "name": "ipython",
    "version": 3
   },
   "file_extension": ".py",
   "mimetype": "text/x-python",
   "name": "python",
   "nbconvert_exporter": "python",
   "pygments_lexer": "ipython3",
   "version": "3.9.7"
  },
  "vscode": {
   "interpreter": {
    "hash": "4b7085521394dcb01bb4a3cdc2b72db267b8b2f7f168932d9109a846d5c11883"
   }
  }
 },
 "nbformat": 4,
 "nbformat_minor": 4
}
