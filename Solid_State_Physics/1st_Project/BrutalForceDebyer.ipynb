{
  "nbformat": 4,
  "nbformat_minor": 0,
  "metadata": {
    "colab": {
      "provenance": []
    },
    "kernelspec": {
      "name": "python3",
      "display_name": "Python 3"
    },
    "language_info": {
      "name": "python"
    },
    "accelerator": "GPU"
  },
  "cells": [
    {
      "cell_type": "markdown",
      "metadata": {
        "id": "jblIfAZLftuC"
      },
      "source": [
        "**Proyecto Primer Parcial** \\\\\n",
        "**Física del Estado Sólido**\n",
        "\n",
        "Ricardo López Rodríguez \\\\\n",
        "Donaldo Alfredo Garrido Islas \\\\\n",
        "Guillermo Durán \\\\\n",
        "Gerardo Arroyo\n",
        "\n"
      ]
    },
    {
      "cell_type": "code",
      "metadata": {
        "id": "nm9YIY7KdvkJ"
      },
      "source": [
        "import numpy as np\n",
        "import matplotlib\n",
        "import plotly.graph_objects as go\n",
        "import plotly.express as px\n",
        "import plotly.io as pio\n",
        "import pandas as pd"
      ],
      "execution_count": null,
      "outputs": []
    },
    {
      "cell_type": "code",
      "metadata": {
        "id": "u6AUYqEUvOUs"
      },
      "source": [
        "pio.templates.default = \"ggplot2\""
      ],
      "execution_count": null,
      "outputs": []
    },
    {
      "cell_type": "code",
      "metadata": {
        "id": "9EjX2mXG0Qti"
      },
      "source": [
        "def Translate(step_x,step_y,step_z):\n",
        "  t_x = step_x\n",
        "  t_y = step_y \n",
        "  t_z = step_z \t\n",
        "  return  np.array([[1,0,0,t_x],\n",
        "              [0,1,0,t_y],\n",
        "              [0,0,1,t_z],\n",
        "              [0,0,0,1]])"
      ],
      "execution_count": null,
      "outputs": []
    },
    {
      "cell_type": "code",
      "metadata": {
        "id": "Jenydn8ber24"
      },
      "source": [
        "# Q = 4*math.pi*np.sin(theta/lambda)\n",
        "a = .5\n",
        "t_x = 0\n",
        "t_y = a\n",
        "t_z = 0\n",
        "T = np.array([[1,0,0,t_x],\n",
        "              [0,1,0,t_y],\n",
        "              [0,0,1,t_z],\n",
        "              [0,0,0,1]])\n",
        "coordenadas_0 = np.array([[0,0,0],\n",
        "                         [0.5,0.5,0],\n",
        "                          [0,0.5,0.5],\n",
        "                          [0.5,0,0.5]])\n",
        "df = pd.DataFrame(coordenadas_0, columns=[\"x\",\"y\",\"z\"])"
      ],
      "execution_count": null,
      "outputs": []
    },
    {
      "cell_type": "code",
      "metadata": {
        "id": "wOxxfIpusz4M",
        "colab": {
          "base_uri": "https://localhost:8080/",
          "height": 175
        },
        "outputId": "f2ee1363-f84f-4c0f-8135-23256b8c4d63"
      },
      "source": [
        "df"
      ],
      "execution_count": null,
      "outputs": [
        {
          "output_type": "execute_result",
          "data": {
            "text/plain": [
              "     x    y    z\n",
              "0  0.0  0.0  0.0\n",
              "1  0.5  0.5  0.0\n",
              "2  0.0  0.5  0.5\n",
              "3  0.5  0.0  0.5"
            ],
            "text/html": [
              "\n",
              "  <div id=\"df-119deaf6-1b53-445d-96f5-d119e7fec837\">\n",
              "    <div class=\"colab-df-container\">\n",
              "      <div>\n",
              "<style scoped>\n",
              "    .dataframe tbody tr th:only-of-type {\n",
              "        vertical-align: middle;\n",
              "    }\n",
              "\n",
              "    .dataframe tbody tr th {\n",
              "        vertical-align: top;\n",
              "    }\n",
              "\n",
              "    .dataframe thead th {\n",
              "        text-align: right;\n",
              "    }\n",
              "</style>\n",
              "<table border=\"1\" class=\"dataframe\">\n",
              "  <thead>\n",
              "    <tr style=\"text-align: right;\">\n",
              "      <th></th>\n",
              "      <th>x</th>\n",
              "      <th>y</th>\n",
              "      <th>z</th>\n",
              "    </tr>\n",
              "  </thead>\n",
              "  <tbody>\n",
              "    <tr>\n",
              "      <th>0</th>\n",
              "      <td>0.0</td>\n",
              "      <td>0.0</td>\n",
              "      <td>0.0</td>\n",
              "    </tr>\n",
              "    <tr>\n",
              "      <th>1</th>\n",
              "      <td>0.5</td>\n",
              "      <td>0.5</td>\n",
              "      <td>0.0</td>\n",
              "    </tr>\n",
              "    <tr>\n",
              "      <th>2</th>\n",
              "      <td>0.0</td>\n",
              "      <td>0.5</td>\n",
              "      <td>0.5</td>\n",
              "    </tr>\n",
              "    <tr>\n",
              "      <th>3</th>\n",
              "      <td>0.5</td>\n",
              "      <td>0.0</td>\n",
              "      <td>0.5</td>\n",
              "    </tr>\n",
              "  </tbody>\n",
              "</table>\n",
              "</div>\n",
              "      <button class=\"colab-df-convert\" onclick=\"convertToInteractive('df-119deaf6-1b53-445d-96f5-d119e7fec837')\"\n",
              "              title=\"Convert this dataframe to an interactive table.\"\n",
              "              style=\"display:none;\">\n",
              "        \n",
              "  <svg xmlns=\"http://www.w3.org/2000/svg\" height=\"24px\"viewBox=\"0 0 24 24\"\n",
              "       width=\"24px\">\n",
              "    <path d=\"M0 0h24v24H0V0z\" fill=\"none\"/>\n",
              "    <path d=\"M18.56 5.44l.94 2.06.94-2.06 2.06-.94-2.06-.94-.94-2.06-.94 2.06-2.06.94zm-11 1L8.5 8.5l.94-2.06 2.06-.94-2.06-.94L8.5 2.5l-.94 2.06-2.06.94zm10 10l.94 2.06.94-2.06 2.06-.94-2.06-.94-.94-2.06-.94 2.06-2.06.94z\"/><path d=\"M17.41 7.96l-1.37-1.37c-.4-.4-.92-.59-1.43-.59-.52 0-1.04.2-1.43.59L10.3 9.45l-7.72 7.72c-.78.78-.78 2.05 0 2.83L4 21.41c.39.39.9.59 1.41.59.51 0 1.02-.2 1.41-.59l7.78-7.78 2.81-2.81c.8-.78.8-2.07 0-2.86zM5.41 20L4 18.59l7.72-7.72 1.47 1.35L5.41 20z\"/>\n",
              "  </svg>\n",
              "      </button>\n",
              "      \n",
              "  <style>\n",
              "    .colab-df-container {\n",
              "      display:flex;\n",
              "      flex-wrap:wrap;\n",
              "      gap: 12px;\n",
              "    }\n",
              "\n",
              "    .colab-df-convert {\n",
              "      background-color: #E8F0FE;\n",
              "      border: none;\n",
              "      border-radius: 50%;\n",
              "      cursor: pointer;\n",
              "      display: none;\n",
              "      fill: #1967D2;\n",
              "      height: 32px;\n",
              "      padding: 0 0 0 0;\n",
              "      width: 32px;\n",
              "    }\n",
              "\n",
              "    .colab-df-convert:hover {\n",
              "      background-color: #E2EBFA;\n",
              "      box-shadow: 0px 1px 2px rgba(60, 64, 67, 0.3), 0px 1px 3px 1px rgba(60, 64, 67, 0.15);\n",
              "      fill: #174EA6;\n",
              "    }\n",
              "\n",
              "    [theme=dark] .colab-df-convert {\n",
              "      background-color: #3B4455;\n",
              "      fill: #D2E3FC;\n",
              "    }\n",
              "\n",
              "    [theme=dark] .colab-df-convert:hover {\n",
              "      background-color: #434B5C;\n",
              "      box-shadow: 0px 1px 3px 1px rgba(0, 0, 0, 0.15);\n",
              "      filter: drop-shadow(0px 1px 2px rgba(0, 0, 0, 0.3));\n",
              "      fill: #FFFFFF;\n",
              "    }\n",
              "  </style>\n",
              "\n",
              "      <script>\n",
              "        const buttonEl =\n",
              "          document.querySelector('#df-119deaf6-1b53-445d-96f5-d119e7fec837 button.colab-df-convert');\n",
              "        buttonEl.style.display =\n",
              "          google.colab.kernel.accessAllowed ? 'block' : 'none';\n",
              "\n",
              "        async function convertToInteractive(key) {\n",
              "          const element = document.querySelector('#df-119deaf6-1b53-445d-96f5-d119e7fec837');\n",
              "          const dataTable =\n",
              "            await google.colab.kernel.invokeFunction('convertToInteractive',\n",
              "                                                     [key], {});\n",
              "          if (!dataTable) return;\n",
              "\n",
              "          const docLinkHtml = 'Like what you see? Visit the ' +\n",
              "            '<a target=\"_blank\" href=https://colab.research.google.com/notebooks/data_table.ipynb>data table notebook</a>'\n",
              "            + ' to learn more about interactive tables.';\n",
              "          element.innerHTML = '';\n",
              "          dataTable['output_type'] = 'display_data';\n",
              "          await google.colab.output.renderOutput(dataTable, element);\n",
              "          const docLink = document.createElement('div');\n",
              "          docLink.innerHTML = docLinkHtml;\n",
              "          element.appendChild(docLink);\n",
              "        }\n",
              "      </script>\n",
              "    </div>\n",
              "  </div>\n",
              "  "
            ]
          },
          "metadata": {},
          "execution_count": 5
        }
      ]
    },
    {
      "cell_type": "code",
      "metadata": {
        "id": "XXkbgZlkrmPz"
      },
      "source": [
        "# fig = px.scatter_3d(df, x = \"x\",y=\"y\",z=\"z\")\n",
        "# fig.update_traces(marker=dict(size = 5))\n",
        "# fig.show()"
      ],
      "execution_count": null,
      "outputs": []
    },
    {
      "cell_type": "code",
      "metadata": {
        "id": "KiuGLtabtzhY"
      },
      "source": [
        "df_t = df.transpose()\n",
        "df_t\n",
        "new_column = [1,1,1,1]\n",
        "coordenadas_0 = np.insert(coordenadas_0, 3, new_column, axis=1)"
      ],
      "execution_count": null,
      "outputs": []
    },
    {
      "cell_type": "code",
      "metadata": {
        "id": "2qIquUVTCfot"
      },
      "source": [
        "def mover_celda(coordenadas,df,tx,ty,tz,N):\n",
        "  coordenadas_0_copy = coordenadas.copy()\n",
        "\n",
        "  for i in range(N):\n",
        "    coordenadas_tras = Translate(tx,ty,tz) @ coordenadas_0_copy\n",
        "    coordenadas_0_copy = coordenadas_tras\n",
        "    coordenadas_tras = np.delete(np.transpose(coordenadas_tras),axis=1,obj=3)\n",
        "    df_tras = pd.DataFrame(coordenadas_tras,columns=[\"x\",\"y\",\"z\"])\n",
        "    df = pd.concat([df,df_tras], axis=0)\n",
        "  return df\n"
      ],
      "execution_count": null,
      "outputs": []
    },
    {
      "cell_type": "code",
      "metadata": {
        "id": "lRreLwCZEkUn"
      },
      "source": [
        "def transponer_ones(df):\n",
        "  df_transpose = df.transpose()\n",
        "  filas,columnas = df_transpose.shape\n",
        "  df_transpose.loc[\"ones\"] = np.ones(columnas)\n",
        "  return df_transpose"
      ],
      "execution_count": null,
      "outputs": []
    },
    {
      "cell_type": "code",
      "metadata": {
        "id": "zAEStH7AKiYO",
        "colab": {
          "base_uri": "https://localhost:8080/"
        },
        "outputId": "c8801038-c13b-4b3e-9add-e3464aea6c2c"
      },
      "source": [
        "coordenadas_0"
      ],
      "execution_count": null,
      "outputs": [
        {
          "output_type": "execute_result",
          "data": {
            "text/plain": [
              "array([[0. , 0. , 0. , 1. ],\n",
              "       [0.5, 0.5, 0. , 1. ],\n",
              "       [0. , 0.5, 0.5, 1. ],\n",
              "       [0.5, 0. , 0.5, 1. ]])"
            ]
          },
          "metadata": {
            "tags": []
          },
          "execution_count": 125
        }
      ]
    },
    {
      "cell_type": "code",
      "metadata": {
        "id": "QSeMfho2wf9a"
      },
      "source": [
        "# coordenadas_0 = transponer_ones(df).values\n",
        "# N_celdas = 1\n",
        "# coordenadas_0_copy = coordenadas_0.copy()\n",
        "\n",
        "# df = mover_celda(coordenadas_0,df,a,0,0,N_celdas)\n",
        "# #df = mover_celda(coordenadas_0,df,0,a,0,N_celdas)\n",
        "# #df = mover_celda(coordenadas_0,df,0,0,a,N_celdas)\n",
        "# df.reset_index(inplace=True, drop=True)\n",
        "\n"
      ],
      "execution_count": null,
      "outputs": []
    },
    {
      "cell_type": "code",
      "metadata": {
        "id": "o6fsr0U-MNyE"
      },
      "source": [
        "# transponer_ones(df)"
      ],
      "execution_count": null,
      "outputs": []
    },
    {
      "cell_type": "code",
      "metadata": {
        "id": "n93m-V8uKmQg"
      },
      "source": [
        "def mov(df,originales,eje,N_celdas):\n",
        "  if eje == 1:\n",
        "    df = mover_celda(originales,df,a,0,0,N_celdas)\n",
        "  elif eje == 2:\n",
        "    df = mover_celda(originales,df,0,a,0,N_celdas)\n",
        "  elif eje == 3:\n",
        "    df = mover_celda(originales,df,0,0,a,N_celdas)\n",
        "  df.reset_index(inplace=True, drop=True)\n",
        "  return df"
      ],
      "execution_count": null,
      "outputs": []
    },
    {
      "cell_type": "code",
      "metadata": {
        "id": "PhvXhHObO793",
        "colab": {
          "base_uri": "https://localhost:8080/",
          "height": 419
        },
        "outputId": "1a69380f-88eb-42f5-ba88-77181fe7b1ee"
      },
      "source": [
        "#cubo m x m\n",
        "m = 5\n",
        "k = 0\n",
        "l = 1\n",
        "for i in range(3):\n",
        "  for j in range(l):\n",
        "    transpuesta =  transponer_ones(df).values\n",
        "    originales = transpuesta[:,k:k+4]\n",
        "    df = mov(df,originales,eje = i+1,N_celdas= m-1)\n",
        "    k += 4\n",
        "  l = l*m\n",
        "  k = 0\n",
        "df"
      ],
      "execution_count": null,
      "outputs": [
        {
          "output_type": "execute_result",
          "data": {
            "text/html": [
              "<div>\n",
              "<style scoped>\n",
              "    .dataframe tbody tr th:only-of-type {\n",
              "        vertical-align: middle;\n",
              "    }\n",
              "\n",
              "    .dataframe tbody tr th {\n",
              "        vertical-align: top;\n",
              "    }\n",
              "\n",
              "    .dataframe thead th {\n",
              "        text-align: right;\n",
              "    }\n",
              "</style>\n",
              "<table border=\"1\" class=\"dataframe\">\n",
              "  <thead>\n",
              "    <tr style=\"text-align: right;\">\n",
              "      <th></th>\n",
              "      <th>x</th>\n",
              "      <th>y</th>\n",
              "      <th>z</th>\n",
              "    </tr>\n",
              "  </thead>\n",
              "  <tbody>\n",
              "    <tr>\n",
              "      <th>0</th>\n",
              "      <td>0.0</td>\n",
              "      <td>0.0</td>\n",
              "      <td>0.0</td>\n",
              "    </tr>\n",
              "    <tr>\n",
              "      <th>1</th>\n",
              "      <td>0.5</td>\n",
              "      <td>0.5</td>\n",
              "      <td>0.0</td>\n",
              "    </tr>\n",
              "    <tr>\n",
              "      <th>2</th>\n",
              "      <td>0.0</td>\n",
              "      <td>0.5</td>\n",
              "      <td>0.5</td>\n",
              "    </tr>\n",
              "    <tr>\n",
              "      <th>3</th>\n",
              "      <td>0.5</td>\n",
              "      <td>0.0</td>\n",
              "      <td>0.5</td>\n",
              "    </tr>\n",
              "    <tr>\n",
              "      <th>4</th>\n",
              "      <td>0.5</td>\n",
              "      <td>0.0</td>\n",
              "      <td>0.0</td>\n",
              "    </tr>\n",
              "    <tr>\n",
              "      <th>...</th>\n",
              "      <td>...</td>\n",
              "      <td>...</td>\n",
              "      <td>...</td>\n",
              "    </tr>\n",
              "    <tr>\n",
              "      <th>495</th>\n",
              "      <td>2.5</td>\n",
              "      <td>2.0</td>\n",
              "      <td>2.0</td>\n",
              "    </tr>\n",
              "    <tr>\n",
              "      <th>496</th>\n",
              "      <td>2.0</td>\n",
              "      <td>2.0</td>\n",
              "      <td>2.0</td>\n",
              "    </tr>\n",
              "    <tr>\n",
              "      <th>497</th>\n",
              "      <td>2.5</td>\n",
              "      <td>2.5</td>\n",
              "      <td>2.0</td>\n",
              "    </tr>\n",
              "    <tr>\n",
              "      <th>498</th>\n",
              "      <td>2.0</td>\n",
              "      <td>2.5</td>\n",
              "      <td>2.5</td>\n",
              "    </tr>\n",
              "    <tr>\n",
              "      <th>499</th>\n",
              "      <td>2.5</td>\n",
              "      <td>2.0</td>\n",
              "      <td>2.5</td>\n",
              "    </tr>\n",
              "  </tbody>\n",
              "</table>\n",
              "<p>500 rows × 3 columns</p>\n",
              "</div>"
            ],
            "text/plain": [
              "       x    y    z\n",
              "0    0.0  0.0  0.0\n",
              "1    0.5  0.5  0.0\n",
              "2    0.0  0.5  0.5\n",
              "3    0.5  0.0  0.5\n",
              "4    0.5  0.0  0.0\n",
              "..   ...  ...  ...\n",
              "495  2.5  2.0  2.0\n",
              "496  2.0  2.0  2.0\n",
              "497  2.5  2.5  2.0\n",
              "498  2.0  2.5  2.5\n",
              "499  2.5  2.0  2.5\n",
              "\n",
              "[500 rows x 3 columns]"
            ]
          },
          "metadata": {
            "tags": []
          },
          "execution_count": 129
        }
      ]
    },
    {
      "cell_type": "code",
      "metadata": {
        "id": "45rRUFiF9a0p"
      },
      "source": [
        "vect = np.array([4,4,4,2,3,1,3,4,67])\n",
        "valores, indices = np.unique(vect, return_index=True)"
      ],
      "execution_count": null,
      "outputs": []
    },
    {
      "cell_type": "code",
      "metadata": {
        "id": "Smdf9Ih9_yXy",
        "colab": {
          "base_uri": "https://localhost:8080/",
          "height": 542
        },
        "outputId": "71f702e2-5d30-4b2c-c725-c4a371b21dde"
      },
      "source": [
        "fig_2 = px.scatter_3d(df, x = \"x\", y=\"y\", z= \"z\")\n",
        "fig_2.update_traces(marker=dict(size = 3))#color = \"#ff6f00\"))\n",
        "#fig_2.update_layout(width= 500, height = 500)\n",
        "fig_2.show() "
      ],
      "execution_count": null,
      "outputs": [
        {
          "output_type": "display_data",
          "data": {
            "text/html": [
              "<html>\n",
              "<head><meta charset=\"utf-8\" /></head>\n",
              "<body>\n",
              "    <div>\n",
              "            <script src=\"https://cdnjs.cloudflare.com/ajax/libs/mathjax/2.7.5/MathJax.js?config=TeX-AMS-MML_SVG\"></script><script type=\"text/javascript\">if (window.MathJax) {MathJax.Hub.Config({SVG: {font: \"STIX-Web\"}});}</script>\n",
              "                <script type=\"text/javascript\">window.PlotlyConfig = {MathJaxConfig: 'local'};</script>\n",
              "        <script src=\"https://cdn.plot.ly/plotly-latest.min.js\"></script>    \n",
              "            <div id=\"6c7225b2-fd95-4dda-9639-f4640f532db1\" class=\"plotly-graph-div\" style=\"height:525px; width:100%;\"></div>\n",
              "            <script type=\"text/javascript\">\n",
              "                \n",
              "                    window.PLOTLYENV=window.PLOTLYENV || {};\n",
              "                    \n",
              "                if (document.getElementById(\"6c7225b2-fd95-4dda-9639-f4640f532db1\")) {\n",
              "                    Plotly.newPlot(\n",
              "                        '6c7225b2-fd95-4dda-9639-f4640f532db1',\n",
              "                        [{\"hoverlabel\": {\"namelength\": 0}, \"hovertemplate\": \"x=%{x}<br>y=%{y}<br>z=%{z}\", \"legendgroup\": \"\", \"marker\": {\"color\": \"#F8766D\", \"size\": 3, \"symbol\": \"circle\"}, \"mode\": \"markers\", \"name\": \"\", \"scene\": \"scene\", \"showlegend\": false, \"type\": \"scatter3d\", \"x\": [0.0, 0.5, 0.0, 0.5, 0.5, 1.0, 0.5, 1.0, 1.0, 1.5, 1.0, 1.5, 1.5, 2.0, 1.5, 2.0, 2.0, 2.5, 2.0, 2.5, 0.0, 0.5, 0.0, 0.5, 0.0, 0.5, 0.0, 0.5, 0.0, 0.5, 0.0, 0.5, 0.0, 0.5, 0.0, 0.5, 0.5, 1.0, 0.5, 1.0, 0.5, 1.0, 0.5, 1.0, 0.5, 1.0, 0.5, 1.0, 0.5, 1.0, 0.5, 1.0, 1.0, 1.5, 1.0, 1.5, 1.0, 1.5, 1.0, 1.5, 1.0, 1.5, 1.0, 1.5, 1.0, 1.5, 1.0, 1.5, 1.5, 2.0, 1.5, 2.0, 1.5, 2.0, 1.5, 2.0, 1.5, 2.0, 1.5, 2.0, 1.5, 2.0, 1.5, 2.0, 2.0, 2.5, 2.0, 2.5, 2.0, 2.5, 2.0, 2.5, 2.0, 2.5, 2.0, 2.5, 2.0, 2.5, 2.0, 2.5, 0.0, 0.5, 0.0, 0.5, 0.0, 0.5, 0.0, 0.5, 0.0, 0.5, 0.0, 0.5, 0.0, 0.5, 0.0, 0.5, 0.5, 1.0, 0.5, 1.0, 0.5, 1.0, 0.5, 1.0, 0.5, 1.0, 0.5, 1.0, 0.5, 1.0, 0.5, 1.0, 1.0, 1.5, 1.0, 1.5, 1.0, 1.5, 1.0, 1.5, 1.0, 1.5, 1.0, 1.5, 1.0, 1.5, 1.0, 1.5, 1.5, 2.0, 1.5, 2.0, 1.5, 2.0, 1.5, 2.0, 1.5, 2.0, 1.5, 2.0, 1.5, 2.0, 1.5, 2.0, 2.0, 2.5, 2.0, 2.5, 2.0, 2.5, 2.0, 2.5, 2.0, 2.5, 2.0, 2.5, 2.0, 2.5, 2.0, 2.5, 0.0, 0.5, 0.0, 0.5, 0.0, 0.5, 0.0, 0.5, 0.0, 0.5, 0.0, 0.5, 0.0, 0.5, 0.0, 0.5, 0.0, 0.5, 0.0, 0.5, 0.0, 0.5, 0.0, 0.5, 0.0, 0.5, 0.0, 0.5, 0.0, 0.5, 0.0, 0.5, 0.0, 0.5, 0.0, 0.5, 0.0, 0.5, 0.0, 0.5, 0.0, 0.5, 0.0, 0.5, 0.0, 0.5, 0.0, 0.5, 0.0, 0.5, 0.0, 0.5, 0.0, 0.5, 0.0, 0.5, 0.0, 0.5, 0.0, 0.5, 0.0, 0.5, 0.0, 0.5, 0.5, 1.0, 0.5, 1.0, 0.5, 1.0, 0.5, 1.0, 0.5, 1.0, 0.5, 1.0, 0.5, 1.0, 0.5, 1.0, 0.5, 1.0, 0.5, 1.0, 0.5, 1.0, 0.5, 1.0, 0.5, 1.0, 0.5, 1.0, 0.5, 1.0, 0.5, 1.0, 0.5, 1.0, 0.5, 1.0, 0.5, 1.0, 0.5, 1.0, 0.5, 1.0, 0.5, 1.0, 0.5, 1.0, 0.5, 1.0, 0.5, 1.0, 0.5, 1.0, 0.5, 1.0, 0.5, 1.0, 0.5, 1.0, 0.5, 1.0, 0.5, 1.0, 0.5, 1.0, 1.0, 1.5, 1.0, 1.5, 1.0, 1.5, 1.0, 1.5, 1.0, 1.5, 1.0, 1.5, 1.0, 1.5, 1.0, 1.5, 1.0, 1.5, 1.0, 1.5, 1.0, 1.5, 1.0, 1.5, 1.0, 1.5, 1.0, 1.5, 1.0, 1.5, 1.0, 1.5, 1.0, 1.5, 1.0, 1.5, 1.0, 1.5, 1.0, 1.5, 1.0, 1.5, 1.0, 1.5, 1.0, 1.5, 1.0, 1.5, 1.0, 1.5, 1.0, 1.5, 1.0, 1.5, 1.0, 1.5, 1.0, 1.5, 1.0, 1.5, 1.0, 1.5, 1.0, 1.5, 1.5, 2.0, 1.5, 2.0, 1.5, 2.0, 1.5, 2.0, 1.5, 2.0, 1.5, 2.0, 1.5, 2.0, 1.5, 2.0, 1.5, 2.0, 1.5, 2.0, 1.5, 2.0, 1.5, 2.0, 1.5, 2.0, 1.5, 2.0, 1.5, 2.0, 1.5, 2.0, 1.5, 2.0, 1.5, 2.0, 1.5, 2.0, 1.5, 2.0, 1.5, 2.0, 1.5, 2.0, 1.5, 2.0, 1.5, 2.0, 1.5, 2.0, 1.5, 2.0, 1.5, 2.0, 1.5, 2.0, 1.5, 2.0, 1.5, 2.0, 1.5, 2.0, 1.5, 2.0, 2.0, 2.5, 2.0, 2.5, 2.0, 2.5, 2.0, 2.5, 2.0, 2.5, 2.0, 2.5, 2.0, 2.5, 2.0, 2.5, 2.0, 2.5, 2.0, 2.5, 2.0, 2.5, 2.0, 2.5, 2.0, 2.5, 2.0, 2.5, 2.0, 2.5, 2.0, 2.5, 2.0, 2.5, 2.0, 2.5, 2.0, 2.5, 2.0, 2.5, 2.0, 2.5, 2.0, 2.5, 2.0, 2.5, 2.0, 2.5, 2.0, 2.5, 2.0, 2.5, 2.0, 2.5, 2.0, 2.5, 2.0, 2.5, 2.0, 2.5, 2.0, 2.5, 2.0, 2.5], \"y\": [0.0, 0.5, 0.5, 0.0, 0.0, 0.5, 0.5, 0.0, 0.0, 0.5, 0.5, 0.0, 0.0, 0.5, 0.5, 0.0, 0.0, 0.5, 0.5, 0.0, 0.5, 1.0, 1.0, 0.5, 1.0, 1.5, 1.5, 1.0, 1.5, 2.0, 2.0, 1.5, 2.0, 2.5, 2.5, 2.0, 0.5, 1.0, 1.0, 0.5, 1.0, 1.5, 1.5, 1.0, 1.5, 2.0, 2.0, 1.5, 2.0, 2.5, 2.5, 2.0, 0.5, 1.0, 1.0, 0.5, 1.0, 1.5, 1.5, 1.0, 1.5, 2.0, 2.0, 1.5, 2.0, 2.5, 2.5, 2.0, 0.5, 1.0, 1.0, 0.5, 1.0, 1.5, 1.5, 1.0, 1.5, 2.0, 2.0, 1.5, 2.0, 2.5, 2.5, 2.0, 0.5, 1.0, 1.0, 0.5, 1.0, 1.5, 1.5, 1.0, 1.5, 2.0, 2.0, 1.5, 2.0, 2.5, 2.5, 2.0, 0.0, 0.5, 0.5, 0.0, 0.0, 0.5, 0.5, 0.0, 0.0, 0.5, 0.5, 0.0, 0.0, 0.5, 0.5, 0.0, 0.0, 0.5, 0.5, 0.0, 0.0, 0.5, 0.5, 0.0, 0.0, 0.5, 0.5, 0.0, 0.0, 0.5, 0.5, 0.0, 0.0, 0.5, 0.5, 0.0, 0.0, 0.5, 0.5, 0.0, 0.0, 0.5, 0.5, 0.0, 0.0, 0.5, 0.5, 0.0, 0.0, 0.5, 0.5, 0.0, 0.0, 0.5, 0.5, 0.0, 0.0, 0.5, 0.5, 0.0, 0.0, 0.5, 0.5, 0.0, 0.0, 0.5, 0.5, 0.0, 0.0, 0.5, 0.5, 0.0, 0.0, 0.5, 0.5, 0.0, 0.0, 0.5, 0.5, 0.0, 0.5, 1.0, 1.0, 0.5, 0.5, 1.0, 1.0, 0.5, 0.5, 1.0, 1.0, 0.5, 0.5, 1.0, 1.0, 0.5, 1.0, 1.5, 1.5, 1.0, 1.0, 1.5, 1.5, 1.0, 1.0, 1.5, 1.5, 1.0, 1.0, 1.5, 1.5, 1.0, 1.5, 2.0, 2.0, 1.5, 1.5, 2.0, 2.0, 1.5, 1.5, 2.0, 2.0, 1.5, 1.5, 2.0, 2.0, 1.5, 2.0, 2.5, 2.5, 2.0, 2.0, 2.5, 2.5, 2.0, 2.0, 2.5, 2.5, 2.0, 2.0, 2.5, 2.5, 2.0, 0.5, 1.0, 1.0, 0.5, 0.5, 1.0, 1.0, 0.5, 0.5, 1.0, 1.0, 0.5, 0.5, 1.0, 1.0, 0.5, 1.0, 1.5, 1.5, 1.0, 1.0, 1.5, 1.5, 1.0, 1.0, 1.5, 1.5, 1.0, 1.0, 1.5, 1.5, 1.0, 1.5, 2.0, 2.0, 1.5, 1.5, 2.0, 2.0, 1.5, 1.5, 2.0, 2.0, 1.5, 1.5, 2.0, 2.0, 1.5, 2.0, 2.5, 2.5, 2.0, 2.0, 2.5, 2.5, 2.0, 2.0, 2.5, 2.5, 2.0, 2.0, 2.5, 2.5, 2.0, 0.5, 1.0, 1.0, 0.5, 0.5, 1.0, 1.0, 0.5, 0.5, 1.0, 1.0, 0.5, 0.5, 1.0, 1.0, 0.5, 1.0, 1.5, 1.5, 1.0, 1.0, 1.5, 1.5, 1.0, 1.0, 1.5, 1.5, 1.0, 1.0, 1.5, 1.5, 1.0, 1.5, 2.0, 2.0, 1.5, 1.5, 2.0, 2.0, 1.5, 1.5, 2.0, 2.0, 1.5, 1.5, 2.0, 2.0, 1.5, 2.0, 2.5, 2.5, 2.0, 2.0, 2.5, 2.5, 2.0, 2.0, 2.5, 2.5, 2.0, 2.0, 2.5, 2.5, 2.0, 0.5, 1.0, 1.0, 0.5, 0.5, 1.0, 1.0, 0.5, 0.5, 1.0, 1.0, 0.5, 0.5, 1.0, 1.0, 0.5, 1.0, 1.5, 1.5, 1.0, 1.0, 1.5, 1.5, 1.0, 1.0, 1.5, 1.5, 1.0, 1.0, 1.5, 1.5, 1.0, 1.5, 2.0, 2.0, 1.5, 1.5, 2.0, 2.0, 1.5, 1.5, 2.0, 2.0, 1.5, 1.5, 2.0, 2.0, 1.5, 2.0, 2.5, 2.5, 2.0, 2.0, 2.5, 2.5, 2.0, 2.0, 2.5, 2.5, 2.0, 2.0, 2.5, 2.5, 2.0, 0.5, 1.0, 1.0, 0.5, 0.5, 1.0, 1.0, 0.5, 0.5, 1.0, 1.0, 0.5, 0.5, 1.0, 1.0, 0.5, 1.0, 1.5, 1.5, 1.0, 1.0, 1.5, 1.5, 1.0, 1.0, 1.5, 1.5, 1.0, 1.0, 1.5, 1.5, 1.0, 1.5, 2.0, 2.0, 1.5, 1.5, 2.0, 2.0, 1.5, 1.5, 2.0, 2.0, 1.5, 1.5, 2.0, 2.0, 1.5, 2.0, 2.5, 2.5, 2.0, 2.0, 2.5, 2.5, 2.0, 2.0, 2.5, 2.5, 2.0, 2.0, 2.5, 2.5, 2.0], \"z\": [0.0, 0.0, 0.5, 0.5, 0.0, 0.0, 0.5, 0.5, 0.0, 0.0, 0.5, 0.5, 0.0, 0.0, 0.5, 0.5, 0.0, 0.0, 0.5, 0.5, 0.0, 0.0, 0.5, 0.5, 0.0, 0.0, 0.5, 0.5, 0.0, 0.0, 0.5, 0.5, 0.0, 0.0, 0.5, 0.5, 0.0, 0.0, 0.5, 0.5, 0.0, 0.0, 0.5, 0.5, 0.0, 0.0, 0.5, 0.5, 0.0, 0.0, 0.5, 0.5, 0.0, 0.0, 0.5, 0.5, 0.0, 0.0, 0.5, 0.5, 0.0, 0.0, 0.5, 0.5, 0.0, 0.0, 0.5, 0.5, 0.0, 0.0, 0.5, 0.5, 0.0, 0.0, 0.5, 0.5, 0.0, 0.0, 0.5, 0.5, 0.0, 0.0, 0.5, 0.5, 0.0, 0.0, 0.5, 0.5, 0.0, 0.0, 0.5, 0.5, 0.0, 0.0, 0.5, 0.5, 0.0, 0.0, 0.5, 0.5, 0.5, 0.5, 1.0, 1.0, 1.0, 1.0, 1.5, 1.5, 1.5, 1.5, 2.0, 2.0, 2.0, 2.0, 2.5, 2.5, 0.5, 0.5, 1.0, 1.0, 1.0, 1.0, 1.5, 1.5, 1.5, 1.5, 2.0, 2.0, 2.0, 2.0, 2.5, 2.5, 0.5, 0.5, 1.0, 1.0, 1.0, 1.0, 1.5, 1.5, 1.5, 1.5, 2.0, 2.0, 2.0, 2.0, 2.5, 2.5, 0.5, 0.5, 1.0, 1.0, 1.0, 1.0, 1.5, 1.5, 1.5, 1.5, 2.0, 2.0, 2.0, 2.0, 2.5, 2.5, 0.5, 0.5, 1.0, 1.0, 1.0, 1.0, 1.5, 1.5, 1.5, 1.5, 2.0, 2.0, 2.0, 2.0, 2.5, 2.5, 0.5, 0.5, 1.0, 1.0, 1.0, 1.0, 1.5, 1.5, 1.5, 1.5, 2.0, 2.0, 2.0, 2.0, 2.5, 2.5, 0.5, 0.5, 1.0, 1.0, 1.0, 1.0, 1.5, 1.5, 1.5, 1.5, 2.0, 2.0, 2.0, 2.0, 2.5, 2.5, 0.5, 0.5, 1.0, 1.0, 1.0, 1.0, 1.5, 1.5, 1.5, 1.5, 2.0, 2.0, 2.0, 2.0, 2.5, 2.5, 0.5, 0.5, 1.0, 1.0, 1.0, 1.0, 1.5, 1.5, 1.5, 1.5, 2.0, 2.0, 2.0, 2.0, 2.5, 2.5, 0.5, 0.5, 1.0, 1.0, 1.0, 1.0, 1.5, 1.5, 1.5, 1.5, 2.0, 2.0, 2.0, 2.0, 2.5, 2.5, 0.5, 0.5, 1.0, 1.0, 1.0, 1.0, 1.5, 1.5, 1.5, 1.5, 2.0, 2.0, 2.0, 2.0, 2.5, 2.5, 0.5, 0.5, 1.0, 1.0, 1.0, 1.0, 1.5, 1.5, 1.5, 1.5, 2.0, 2.0, 2.0, 2.0, 2.5, 2.5, 0.5, 0.5, 1.0, 1.0, 1.0, 1.0, 1.5, 1.5, 1.5, 1.5, 2.0, 2.0, 2.0, 2.0, 2.5, 2.5, 0.5, 0.5, 1.0, 1.0, 1.0, 1.0, 1.5, 1.5, 1.5, 1.5, 2.0, 2.0, 2.0, 2.0, 2.5, 2.5, 0.5, 0.5, 1.0, 1.0, 1.0, 1.0, 1.5, 1.5, 1.5, 1.5, 2.0, 2.0, 2.0, 2.0, 2.5, 2.5, 0.5, 0.5, 1.0, 1.0, 1.0, 1.0, 1.5, 1.5, 1.5, 1.5, 2.0, 2.0, 2.0, 2.0, 2.5, 2.5, 0.5, 0.5, 1.0, 1.0, 1.0, 1.0, 1.5, 1.5, 1.5, 1.5, 2.0, 2.0, 2.0, 2.0, 2.5, 2.5, 0.5, 0.5, 1.0, 1.0, 1.0, 1.0, 1.5, 1.5, 1.5, 1.5, 2.0, 2.0, 2.0, 2.0, 2.5, 2.5, 0.5, 0.5, 1.0, 1.0, 1.0, 1.0, 1.5, 1.5, 1.5, 1.5, 2.0, 2.0, 2.0, 2.0, 2.5, 2.5, 0.5, 0.5, 1.0, 1.0, 1.0, 1.0, 1.5, 1.5, 1.5, 1.5, 2.0, 2.0, 2.0, 2.0, 2.5, 2.5, 0.5, 0.5, 1.0, 1.0, 1.0, 1.0, 1.5, 1.5, 1.5, 1.5, 2.0, 2.0, 2.0, 2.0, 2.5, 2.5, 0.5, 0.5, 1.0, 1.0, 1.0, 1.0, 1.5, 1.5, 1.5, 1.5, 2.0, 2.0, 2.0, 2.0, 2.5, 2.5, 0.5, 0.5, 1.0, 1.0, 1.0, 1.0, 1.5, 1.5, 1.5, 1.5, 2.0, 2.0, 2.0, 2.0, 2.5, 2.5, 0.5, 0.5, 1.0, 1.0, 1.0, 1.0, 1.5, 1.5, 1.5, 1.5, 2.0, 2.0, 2.0, 2.0, 2.5, 2.5, 0.5, 0.5, 1.0, 1.0, 1.0, 1.0, 1.5, 1.5, 1.5, 1.5, 2.0, 2.0, 2.0, 2.0, 2.5, 2.5]}],\n",
              "                        {\"legend\": {\"tracegroupgap\": 0}, \"margin\": {\"t\": 60}, \"scene\": {\"domain\": {\"x\": [0.0, 1.0], \"y\": [0.0, 1.0]}, \"xaxis\": {\"title\": {\"text\": \"x\"}}, \"yaxis\": {\"title\": {\"text\": \"y\"}}, \"zaxis\": {\"title\": {\"text\": \"z\"}}}, \"template\": {\"data\": {\"bar\": [{\"error_x\": {\"color\": \"rgb(51,51,51)\"}, \"error_y\": {\"color\": \"rgb(51,51,51)\"}, \"marker\": {\"line\": {\"color\": \"rgb(237,237,237)\", \"width\": 0.5}}, \"type\": \"bar\"}], \"barpolar\": [{\"marker\": {\"line\": {\"color\": \"rgb(237,237,237)\", \"width\": 0.5}}, \"type\": \"barpolar\"}], \"carpet\": [{\"aaxis\": {\"endlinecolor\": \"rgb(51,51,51)\", \"gridcolor\": \"white\", \"linecolor\": \"white\", \"minorgridcolor\": \"white\", \"startlinecolor\": \"rgb(51,51,51)\"}, \"baxis\": {\"endlinecolor\": \"rgb(51,51,51)\", \"gridcolor\": \"white\", \"linecolor\": \"white\", \"minorgridcolor\": \"white\", \"startlinecolor\": \"rgb(51,51,51)\"}, \"type\": \"carpet\"}], \"choropleth\": [{\"colorbar\": {\"outlinewidth\": 0, \"tickcolor\": \"rgb(237,237,237)\", \"ticklen\": 6, \"ticks\": \"inside\"}, \"type\": \"choropleth\"}], \"contour\": [{\"colorbar\": {\"outlinewidth\": 0, \"tickcolor\": \"rgb(237,237,237)\", \"ticklen\": 6, \"ticks\": \"inside\"}, \"colorscale\": [[0, \"rgb(20,44,66)\"], [1, \"rgb(90,179,244)\"]], \"type\": \"contour\"}], \"contourcarpet\": [{\"colorbar\": {\"outlinewidth\": 0, \"tickcolor\": \"rgb(237,237,237)\", \"ticklen\": 6, \"ticks\": \"inside\"}, \"type\": \"contourcarpet\"}], \"heatmap\": [{\"colorbar\": {\"outlinewidth\": 0, \"tickcolor\": \"rgb(237,237,237)\", \"ticklen\": 6, \"ticks\": \"inside\"}, \"colorscale\": [[0, \"rgb(20,44,66)\"], [1, \"rgb(90,179,244)\"]], \"type\": \"heatmap\"}], \"heatmapgl\": [{\"colorbar\": {\"outlinewidth\": 0, \"tickcolor\": \"rgb(237,237,237)\", \"ticklen\": 6, \"ticks\": \"inside\"}, \"colorscale\": [[0, \"rgb(20,44,66)\"], [1, \"rgb(90,179,244)\"]], \"type\": \"heatmapgl\"}], \"histogram\": [{\"marker\": {\"colorbar\": {\"outlinewidth\": 0, \"tickcolor\": \"rgb(237,237,237)\", \"ticklen\": 6, \"ticks\": \"inside\"}}, \"type\": \"histogram\"}], \"histogram2d\": [{\"colorbar\": {\"outlinewidth\": 0, \"tickcolor\": \"rgb(237,237,237)\", \"ticklen\": 6, \"ticks\": \"inside\"}, \"colorscale\": [[0, \"rgb(20,44,66)\"], [1, \"rgb(90,179,244)\"]], \"type\": \"histogram2d\"}], \"histogram2dcontour\": [{\"colorbar\": {\"outlinewidth\": 0, \"tickcolor\": \"rgb(237,237,237)\", \"ticklen\": 6, \"ticks\": \"inside\"}, \"colorscale\": [[0, \"rgb(20,44,66)\"], [1, \"rgb(90,179,244)\"]], \"type\": \"histogram2dcontour\"}], \"mesh3d\": [{\"colorbar\": {\"outlinewidth\": 0, \"tickcolor\": \"rgb(237,237,237)\", \"ticklen\": 6, \"ticks\": \"inside\"}, \"type\": \"mesh3d\"}], \"parcoords\": [{\"line\": {\"colorbar\": {\"outlinewidth\": 0, \"tickcolor\": \"rgb(237,237,237)\", \"ticklen\": 6, \"ticks\": \"inside\"}}, \"type\": \"parcoords\"}], \"pie\": [{\"automargin\": true, \"type\": \"pie\"}], \"scatter\": [{\"marker\": {\"colorbar\": {\"outlinewidth\": 0, \"tickcolor\": \"rgb(237,237,237)\", \"ticklen\": 6, \"ticks\": \"inside\"}}, \"type\": \"scatter\"}], \"scatter3d\": [{\"line\": {\"colorbar\": {\"outlinewidth\": 0, \"tickcolor\": \"rgb(237,237,237)\", \"ticklen\": 6, \"ticks\": \"inside\"}}, \"marker\": {\"colorbar\": {\"outlinewidth\": 0, \"tickcolor\": \"rgb(237,237,237)\", \"ticklen\": 6, \"ticks\": \"inside\"}}, \"type\": \"scatter3d\"}], \"scattercarpet\": [{\"marker\": {\"colorbar\": {\"outlinewidth\": 0, \"tickcolor\": \"rgb(237,237,237)\", \"ticklen\": 6, \"ticks\": \"inside\"}}, \"type\": \"scattercarpet\"}], \"scattergeo\": [{\"marker\": {\"colorbar\": {\"outlinewidth\": 0, \"tickcolor\": \"rgb(237,237,237)\", \"ticklen\": 6, \"ticks\": \"inside\"}}, \"type\": \"scattergeo\"}], \"scattergl\": [{\"marker\": {\"colorbar\": {\"outlinewidth\": 0, \"tickcolor\": \"rgb(237,237,237)\", \"ticklen\": 6, \"ticks\": \"inside\"}}, \"type\": \"scattergl\"}], \"scattermapbox\": [{\"marker\": {\"colorbar\": {\"outlinewidth\": 0, \"tickcolor\": \"rgb(237,237,237)\", \"ticklen\": 6, \"ticks\": \"inside\"}}, \"type\": \"scattermapbox\"}], \"scatterpolar\": [{\"marker\": {\"colorbar\": {\"outlinewidth\": 0, \"tickcolor\": \"rgb(237,237,237)\", \"ticklen\": 6, \"ticks\": \"inside\"}}, \"type\": \"scatterpolar\"}], \"scatterpolargl\": [{\"marker\": {\"colorbar\": {\"outlinewidth\": 0, \"tickcolor\": \"rgb(237,237,237)\", \"ticklen\": 6, \"ticks\": \"inside\"}}, \"type\": \"scatterpolargl\"}], \"scatterternary\": [{\"marker\": {\"colorbar\": {\"outlinewidth\": 0, \"tickcolor\": \"rgb(237,237,237)\", \"ticklen\": 6, \"ticks\": \"inside\"}}, \"type\": \"scatterternary\"}], \"surface\": [{\"colorbar\": {\"outlinewidth\": 0, \"tickcolor\": \"rgb(237,237,237)\", \"ticklen\": 6, \"ticks\": \"inside\"}, \"colorscale\": [[0, \"rgb(20,44,66)\"], [1, \"rgb(90,179,244)\"]], \"type\": \"surface\"}], \"table\": [{\"cells\": {\"fill\": {\"color\": \"rgb(237,237,237)\"}, \"line\": {\"color\": \"white\"}}, \"header\": {\"fill\": {\"color\": \"rgb(217,217,217)\"}, \"line\": {\"color\": \"white\"}}, \"type\": \"table\"}]}, \"layout\": {\"annotationdefaults\": {\"arrowhead\": 0, \"arrowwidth\": 1}, \"coloraxis\": {\"colorbar\": {\"outlinewidth\": 0, \"tickcolor\": \"rgb(237,237,237)\", \"ticklen\": 6, \"ticks\": \"inside\"}}, \"colorscale\": {\"sequential\": [[0, \"rgb(20,44,66)\"], [1, \"rgb(90,179,244)\"]], \"sequentialminus\": [[0, \"rgb(20,44,66)\"], [1, \"rgb(90,179,244)\"]]}, \"colorway\": [\"#F8766D\", \"#A3A500\", \"#00BF7D\", \"#00B0F6\", \"#E76BF3\"], \"font\": {\"color\": \"rgb(51,51,51)\"}, \"geo\": {\"bgcolor\": \"white\", \"lakecolor\": \"white\", \"landcolor\": \"rgb(237,237,237)\", \"showlakes\": true, \"showland\": true, \"subunitcolor\": \"white\"}, \"hoverlabel\": {\"align\": \"left\"}, \"hovermode\": \"closest\", \"paper_bgcolor\": \"white\", \"plot_bgcolor\": \"rgb(237,237,237)\", \"polar\": {\"angularaxis\": {\"gridcolor\": \"white\", \"linecolor\": \"white\", \"showgrid\": true, \"tickcolor\": \"rgb(51,51,51)\", \"ticks\": \"outside\"}, \"bgcolor\": \"rgb(237,237,237)\", \"radialaxis\": {\"gridcolor\": \"white\", \"linecolor\": \"white\", \"showgrid\": true, \"tickcolor\": \"rgb(51,51,51)\", \"ticks\": \"outside\"}}, \"scene\": {\"xaxis\": {\"backgroundcolor\": \"rgb(237,237,237)\", \"gridcolor\": \"white\", \"gridwidth\": 2, \"linecolor\": \"white\", \"showbackground\": true, \"showgrid\": true, \"tickcolor\": \"rgb(51,51,51)\", \"ticks\": \"outside\", \"zerolinecolor\": \"white\"}, \"yaxis\": {\"backgroundcolor\": \"rgb(237,237,237)\", \"gridcolor\": \"white\", \"gridwidth\": 2, \"linecolor\": \"white\", \"showbackground\": true, \"showgrid\": true, \"tickcolor\": \"rgb(51,51,51)\", \"ticks\": \"outside\", \"zerolinecolor\": \"white\"}, \"zaxis\": {\"backgroundcolor\": \"rgb(237,237,237)\", \"gridcolor\": \"white\", \"gridwidth\": 2, \"linecolor\": \"white\", \"showbackground\": true, \"showgrid\": true, \"tickcolor\": \"rgb(51,51,51)\", \"ticks\": \"outside\", \"zerolinecolor\": \"white\"}}, \"shapedefaults\": {\"fillcolor\": \"black\", \"line\": {\"width\": 0}, \"opacity\": 0.3}, \"ternary\": {\"aaxis\": {\"gridcolor\": \"white\", \"linecolor\": \"white\", \"showgrid\": true, \"tickcolor\": \"rgb(51,51,51)\", \"ticks\": \"outside\"}, \"baxis\": {\"gridcolor\": \"white\", \"linecolor\": \"white\", \"showgrid\": true, \"tickcolor\": \"rgb(51,51,51)\", \"ticks\": \"outside\"}, \"bgcolor\": \"rgb(237,237,237)\", \"caxis\": {\"gridcolor\": \"white\", \"linecolor\": \"white\", \"showgrid\": true, \"tickcolor\": \"rgb(51,51,51)\", \"ticks\": \"outside\"}}, \"xaxis\": {\"automargin\": true, \"gridcolor\": \"white\", \"linecolor\": \"white\", \"showgrid\": true, \"tickcolor\": \"rgb(51,51,51)\", \"ticks\": \"outside\", \"title\": {\"standoff\": 15}, \"zerolinecolor\": \"white\"}, \"yaxis\": {\"automargin\": true, \"gridcolor\": \"white\", \"linecolor\": \"white\", \"showgrid\": true, \"tickcolor\": \"rgb(51,51,51)\", \"ticks\": \"outside\", \"title\": {\"standoff\": 15}, \"zerolinecolor\": \"white\"}}}},\n",
              "                        {\"responsive\": true}\n",
              "                    ).then(function(){\n",
              "                            \n",
              "var gd = document.getElementById('6c7225b2-fd95-4dda-9639-f4640f532db1');\n",
              "var x = new MutationObserver(function (mutations, observer) {{\n",
              "        var display = window.getComputedStyle(gd).display;\n",
              "        if (!display || display === 'none') {{\n",
              "            console.log([gd, 'removed!']);\n",
              "            Plotly.purge(gd);\n",
              "            observer.disconnect();\n",
              "        }}\n",
              "}});\n",
              "\n",
              "// Listen for the removal of the full notebook cells\n",
              "var notebookContainer = gd.closest('#notebook-container');\n",
              "if (notebookContainer) {{\n",
              "    x.observe(notebookContainer, {childList: true});\n",
              "}}\n",
              "\n",
              "// Listen for the clearing of the current output cell\n",
              "var outputEl = gd.closest('.output');\n",
              "if (outputEl) {{\n",
              "    x.observe(outputEl, {childList: true});\n",
              "}}\n",
              "\n",
              "                        })\n",
              "                };\n",
              "                \n",
              "            </script>\n",
              "        </div>\n",
              "</body>\n",
              "</html>"
            ]
          },
          "metadata": {
            "tags": []
          }
        }
      ]
    },
    {
      "cell_type": "code",
      "metadata": {
        "id": "O44xnIVEepat"
      },
      "source": [
        "len(df)\n",
        "N = len(df)"
      ],
      "execution_count": null,
      "outputs": []
    },
    {
      "cell_type": "code",
      "metadata": {
        "id": "QjnMuMDG_2Ih"
      },
      "source": [
        "k = 0\n",
        "distancias = list()\n",
        "for i in range(len(df)):\n",
        "    atomo_1 = df.loc[i].values \n",
        "    k += 1\n",
        "    for j in range(len(df) - k):\n",
        "      atomo_2 = df.loc[j+k].values\n",
        "      distancias.append(np.sqrt(np.sum( (atomo_2 - atomo_1)**2 ))) #distancias\n"
      ],
      "execution_count": null,
      "outputs": []
    },
    {
      "cell_type": "code",
      "metadata": {
        "id": "T0m6DP8Axutl"
      },
      "source": [],
      "execution_count": null,
      "outputs": []
    },
    {
      "cell_type": "code",
      "metadata": {
        "id": "NUG_jSmEdk63",
        "colab": {
          "base_uri": "https://localhost:8080/"
        },
        "outputId": "8034e9a5-39db-47aa-a888-b31fca1996f9"
      },
      "source": [
        "len(distancias)\n"
      ],
      "execution_count": null,
      "outputs": [
        {
          "output_type": "execute_result",
          "data": {
            "text/plain": [
              "124750"
            ]
          },
          "metadata": {
            "tags": []
          },
          "execution_count": 134
        }
      ]
    },
    {
      "cell_type": "code",
      "metadata": {
        "id": "xUGUWA5rZXUE"
      },
      "source": [
        "distance_data_frame = pd.DataFrame(distancias, columns = [\"distancias\"])"
      ],
      "execution_count": null,
      "outputs": []
    },
    {
      "cell_type": "code",
      "metadata": {
        "colab": {
          "base_uri": "https://localhost:8080/",
          "height": 419
        },
        "id": "9POPVzVRxwU9",
        "outputId": "66393517-0495-4710-c261-cceb5854e415"
      },
      "source": [
        "distance_data_frame[distance_data_frame[\"distancias\"] == 0]"
      ],
      "execution_count": null,
      "outputs": [
        {
          "output_type": "execute_result",
          "data": {
            "text/html": [
              "<div>\n",
              "<style scoped>\n",
              "    .dataframe tbody tr th:only-of-type {\n",
              "        vertical-align: middle;\n",
              "    }\n",
              "\n",
              "    .dataframe tbody tr th {\n",
              "        vertical-align: top;\n",
              "    }\n",
              "\n",
              "    .dataframe thead th {\n",
              "        text-align: right;\n",
              "    }\n",
              "</style>\n",
              "<table border=\"1\" class=\"dataframe\">\n",
              "  <thead>\n",
              "    <tr style=\"text-align: right;\">\n",
              "      <th></th>\n",
              "      <th>distancias</th>\n",
              "    </tr>\n",
              "  </thead>\n",
              "  <tbody>\n",
              "    <tr>\n",
              "      <th>533</th>\n",
              "      <td>0.0</td>\n",
              "    </tr>\n",
              "    <tr>\n",
              "      <th>1174</th>\n",
              "      <td>0.0</td>\n",
              "    </tr>\n",
              "    <tr>\n",
              "      <th>1606</th>\n",
              "      <td>0.0</td>\n",
              "    </tr>\n",
              "    <tr>\n",
              "      <th>2531</th>\n",
              "      <td>0.0</td>\n",
              "    </tr>\n",
              "    <tr>\n",
              "      <th>2995</th>\n",
              "      <td>0.0</td>\n",
              "    </tr>\n",
              "    <tr>\n",
              "      <th>...</th>\n",
              "      <td>...</td>\n",
              "    </tr>\n",
              "    <tr>\n",
              "      <th>124412</th>\n",
              "      <td>0.0</td>\n",
              "    </tr>\n",
              "    <tr>\n",
              "      <th>124442</th>\n",
              "      <td>0.0</td>\n",
              "    </tr>\n",
              "    <tr>\n",
              "      <th>124510</th>\n",
              "      <td>0.0</td>\n",
              "    </tr>\n",
              "    <tr>\n",
              "      <th>124536</th>\n",
              "      <td>0.0</td>\n",
              "    </tr>\n",
              "    <tr>\n",
              "      <th>124592</th>\n",
              "      <td>0.0</td>\n",
              "    </tr>\n",
              "  </tbody>\n",
              "</table>\n",
              "<p>480 rows × 1 columns</p>\n",
              "</div>"
            ],
            "text/plain": [
              "        distancias\n",
              "533            0.0\n",
              "1174           0.0\n",
              "1606           0.0\n",
              "2531           0.0\n",
              "2995           0.0\n",
              "...            ...\n",
              "124412         0.0\n",
              "124442         0.0\n",
              "124510         0.0\n",
              "124536         0.0\n",
              "124592         0.0\n",
              "\n",
              "[480 rows x 1 columns]"
            ]
          },
          "metadata": {
            "tags": []
          },
          "execution_count": 136
        }
      ]
    },
    {
      "cell_type": "code",
      "metadata": {
        "id": "MHCaOACDaVje"
      },
      "source": [
        "r_k = distancias"
      ],
      "execution_count": null,
      "outputs": []
    },
    {
      "cell_type": "code",
      "metadata": {
        "id": "uiAVyVlWHQah"
      },
      "source": [
        "# a = 0.5\n",
        "# t_x = 0\n",
        "# t_y = a\n",
        "# t_z = 0\n",
        "# coordenadas_0 = np.array([[0,0,0],\n",
        "#                          [0.5,0.5,0],\n",
        "#                           [0,0.5,0.5],\n",
        "#                           [0.5,0,0.5],\n",
        "#                           [0,1,0],\n",
        "#                           [1,0,0],\n",
        "#                           [1,1,0],\n",
        "#                           [1,0.5,0.5],\n",
        "#                           [0.5,1,0.5],\n",
        "#                           [0,0,1],\n",
        "#                           [1,0,1],\n",
        "#                           [0,1,1],\n",
        "#                           [1,1,1],\n",
        "#                           [0.5,0.5,1]\n",
        "#                           ])\n",
        "# df = pd.DataFrame(coordenadas_0, columns=[\"x\",\"y\",\"z\"])"
      ],
      "execution_count": null,
      "outputs": []
    },
    {
      "cell_type": "code",
      "metadata": {
        "id": "RJEnD0BbmeMz"
      },
      "source": [
        "# fig_10 = px.scatter_3d(df, x = \"x\", y=\"y\", z= \"z\")\n",
        "# fig_10.update_traces(marker=dict(size = 8,color = \"#ff6f00\"))\n",
        "# fig_10.update_layout(width= 500, height = 500)\n",
        "# fig_10.show() "
      ],
      "execution_count": null,
      "outputs": []
    },
    {
      "cell_type": "code",
      "metadata": {
        "id": "rmuekqBUsE9l"
      },
      "source": [
        "def Q(theta_):\n",
        "  lamda = 1\n",
        "  return 4*np.pi*np.sin(theta_/lamda)"
      ],
      "execution_count": null,
      "outputs": []
    },
    {
      "cell_type": "code",
      "metadata": {
        "colab": {
          "base_uri": "https://localhost:8080/"
        },
        "id": "q2Antez-xQ7T",
        "outputId": "ffefed44-55ee-4168-813a-73e105b267b0"
      },
      "source": [
        "np.min(r_k)"
      ],
      "execution_count": null,
      "outputs": [
        {
          "output_type": "execute_result",
          "data": {
            "text/plain": [
              "0.0"
            ]
          },
          "metadata": {
            "tags": []
          },
          "execution_count": 141
        }
      ]
    },
    {
      "cell_type": "code",
      "metadata": {
        "colab": {
          "base_uri": "https://localhost:8080/"
        },
        "id": "2jQErmBmsV13",
        "outputId": "7b757791-6176-49a7-e2b4-50088a9981c3"
      },
      "source": [
        "theta = np.linspace(0.5,np.pi/2,2000)\n",
        "sum = np.zeros(len(theta))\n",
        "counter_sum = 0\n",
        "f = 1\n",
        "for radian in theta:\n",
        "  counter = 0  \n",
        "  for r in r_k:\n",
        "    sum[counter_sum] = sum[counter_sum] + np.sin(Q(radian) * r)/(Q(radian)*r)\n",
        "    counter += 1\n",
        "  counter_sum += 1\n",
        "\n",
        "rho = 1\n",
        "lamda = 1\n",
        "Q_f = 4*np.pi*np.sin(theta/lamda)\n",
        "r_c = np.max(r_k)\n",
        "I = N * f**2 * (1/N * (sum) +  (4*np.pi/Q_f**3 ) * (Q_f*r_c * np.cos(Q_f *r_c ) - np.sin(Q_f*r_c) ))"
      ],
      "execution_count": null,
      "outputs": [
        {
          "output_type": "stream",
          "text": [
            "/usr/local/lib/python3.7/dist-packages/ipykernel_launcher.py:8: RuntimeWarning:\n",
            "\n",
            "invalid value encountered in double_scalars\n",
            "\n"
          ],
          "name": "stderr"
        }
      ]
    },
    {
      "cell_type": "code",
      "metadata": {
        "colab": {
          "base_uri": "https://localhost:8080/"
        },
        "id": "pCNf1W8-90L1",
        "outputId": "5f6546c3-1bd2-414d-a35b-f97c4efe0539"
      },
      "source": [
        "sum"
      ],
      "execution_count": null,
      "outputs": [
        {
          "output_type": "execute_result",
          "data": {
            "text/plain": [
              "array([nan, nan, nan, ..., nan, nan, nan])"
            ]
          },
          "metadata": {
            "tags": []
          },
          "execution_count": 143
        }
      ]
    },
    {
      "cell_type": "code",
      "metadata": {
        "id": "rpXkL8iW98j8"
      },
      "source": [
        "rho = 1\n",
        "lamda = 1\n",
        "Q_f = 4*np.pi*np.sin(theta/lamda)\n",
        "r_c = np.max(r_k)\n",
        "I = N * f**2 * (1/N * (sum) +  (4*np.pi/Q_f**3 ) * (Q_f*r_c * np.cos(Q_f *r_c ) - np.sin(Q_f*r_c) ))"
      ],
      "execution_count": null,
      "outputs": []
    },
    {
      "cell_type": "code",
      "metadata": {
        "colab": {
          "base_uri": "https://localhost:8080/",
          "height": 542
        },
        "id": "6by4b1A3vRM6",
        "outputId": "1acd7b46-6b2d-40eb-9646-ec3e1db95a5a"
      },
      "source": [
        "fig_4 = px.line(x = theta, y=I)\n",
        "fig_4.show()"
      ],
      "execution_count": null,
      "outputs": [
        {
          "output_type": "display_data",
          "data": {
            "text/html": [
              "<html>\n",
              "<head><meta charset=\"utf-8\" /></head>\n",
              "<body>\n",
              "    <div>\n",
              "            <script src=\"https://cdnjs.cloudflare.com/ajax/libs/mathjax/2.7.5/MathJax.js?config=TeX-AMS-MML_SVG\"></script><script type=\"text/javascript\">if (window.MathJax) {MathJax.Hub.Config({SVG: {font: \"STIX-Web\"}});}</script>\n",
              "                <script type=\"text/javascript\">window.PlotlyConfig = {MathJaxConfig: 'local'};</script>\n",
              "        <script src=\"https://cdn.plot.ly/plotly-latest.min.js\"></script>    \n",
              "            <div id=\"7f92d0d8-60c8-4b83-acec-c4211ae9ee2e\" class=\"plotly-graph-div\" style=\"height:525px; width:100%;\"></div>\n",
              "            <script type=\"text/javascript\">\n",
              "                \n",
              "                    window.PLOTLYENV=window.PLOTLYENV || {};\n",
              "                    \n",
              "                if (document.getElementById(\"7f92d0d8-60c8-4b83-acec-c4211ae9ee2e\")) {\n",
              "                    Plotly.newPlot(\n",
              "                        '7f92d0d8-60c8-4b83-acec-c4211ae9ee2e',\n",
              "                        [{\"hoverlabel\": {\"namelength\": 0}, \"hovertemplate\": \"x=%{x}<br>y=%{y}\", \"legendgroup\": \"\", \"line\": {\"color\": \"#F8766D\", \"dash\": \"solid\"}, \"mode\": \"lines\", \"name\": \"\", \"showlegend\": false, \"type\": \"scattergl\", \"x\": [0.5, 0.5005356659963957, 0.5010713319927913, 0.501606997989187, 0.5021426639855826, 0.5026783299819783, 0.5032139959783739, 0.5037496619747696, 0.5042853279711652, 0.5048209939675609, 0.5053566599639565, 0.505892325960352, 0.5064279919567477, 0.5069636579531434, 0.507499323949539, 0.5080349899459347, 0.5085706559423303, 0.509106321938726, 0.5096419879351216, 0.5101776539315173, 0.5107133199279129, 0.5112489859243086, 0.5117846519207042, 0.5123203179170999, 0.5128559839134955, 0.5133916499098912, 0.5139273159062868, 0.5144629819026825, 0.5149986478990781, 0.5155343138954738, 0.5160699798918694, 0.5166056458882651, 0.5171413118846607, 0.5176769778810564, 0.5182126438774519, 0.5187483098738476, 0.5192839758702432, 0.5198196418666389, 0.5203553078630345, 0.5208909738594302, 0.5214266398558258, 0.5219623058522215, 0.5224979718486171, 0.5230336378450128, 0.5235693038414084, 0.5241049698378041, 0.5246406358341997, 0.5251763018305954, 0.525711967826991, 0.5262476338233867, 0.5267832998197823, 0.527318965816178, 0.5278546318125736, 0.5283902978089693, 0.5289259638053649, 0.5294616298017605, 0.5299972957981561, 0.5305329617945518, 0.5310686277909474, 0.5316042937873431, 0.5321399597837387, 0.5326756257801344, 0.53321129177653, 0.5337469577729257, 0.5342826237693213, 0.534818289765717, 0.5353539557621126, 0.5358896217585083, 0.536425287754904, 0.5369609537512996, 0.5374966197476952, 0.5380322857440909, 0.5385679517404866, 0.5391036177368822, 0.5396392837332779, 0.5401749497296735, 0.540710615726069, 0.5412462817224647, 0.5417819477188603, 0.542317613715256, 0.5428532797116516, 0.5433889457080473, 0.543924611704443, 0.5444602777008386, 0.5449959436972343, 0.5455316096936299, 0.5460672756900256, 0.5466029416864212, 0.5471386076828169, 0.5476742736792125, 0.5482099396756082, 0.5487456056720038, 0.5492812716683995, 0.5498169376647951, 0.5503526036611908, 0.5508882696575864, 0.5514239356539821, 0.5519596016503777, 0.5524952676467734, 0.5530309336431689, 0.5535665996395646, 0.5541022656359602, 0.5546379316323559, 0.5551735976287515, 0.5557092636251472, 0.5562449296215428, 0.5567805956179385, 0.5573162616143341, 0.5578519276107298, 0.5583875936071254, 0.5589232596035211, 0.5594589255999167, 0.5599945915963124, 0.560530257592708, 0.5610659235891037, 0.5616015895854993, 0.562137255581895, 0.5626729215782906, 0.5632085875746863, 0.5637442535710819, 0.5642799195674775, 0.5648155855638732, 0.5653512515602688, 0.5658869175566644, 0.5664225835530601, 0.5669582495494557, 0.5674939155458514, 0.568029581542247, 0.5685652475386427, 0.5691009135350383, 0.569636579531434, 0.5701722455278296, 0.5707079115242253, 0.5712435775206209, 0.5717792435170166, 0.5723149095134122, 0.5728505755098079, 0.5733862415062035, 0.5739219075025992, 0.5744575734989948, 0.5749932394953905, 0.575528905491786, 0.5760645714881818, 0.5766002374845773, 0.577135903480973, 0.5776715694773686, 0.5782072354737643, 0.5787429014701599, 0.5792785674665556, 0.5798142334629512, 0.5803498994593469, 0.5808855654557425, 0.5814212314521382, 0.5819568974485338, 0.5824925634449295, 0.5830282294413252, 0.5835638954377208, 0.5840995614341165, 0.5846352274305121, 0.5851708934269078, 0.5857065594233034, 0.5862422254196991, 0.5867778914160947, 0.5873135574124904, 0.5878492234088859, 0.5883848894052816, 0.5889205554016772, 0.5894562213980729, 0.5899918873944685, 0.5905275533908642, 0.5910632193872598, 0.5915988853836555, 0.5921345513800511, 0.5926702173764468, 0.5932058833728424, 0.5937415493692381, 0.5942772153656337, 0.5948128813620294, 0.595348547358425, 0.5958842133548207, 0.5964198793512163, 0.596955545347612, 0.5974912113440076, 0.5980268773404033, 0.5985625433367989, 0.5990982093331945, 0.5996338753295902, 0.6001695413259858, 0.6007052073223814, 0.6012408733187771, 0.6017765393151727, 0.6023122053115684, 0.602847871307964, 0.6033835373043597, 0.6039192033007553, 0.604454869297151, 0.6049905352935466, 0.6055262012899423, 0.6060618672863379, 0.6065975332827336, 0.6071331992791292, 0.6076688652755249, 0.6082045312719205, 0.6087401972683162, 0.6092758632647118, 0.6098115292611075, 0.610347195257503, 0.6108828612538988, 0.6114185272502943, 0.61195419324669, 0.6124898592430856, 0.6130255252394813, 0.6135611912358769, 0.6140968572322726, 0.6146325232286682, 0.6151681892250639, 0.6157038552214595, 0.6162395212178552, 0.6167751872142508, 0.6173108532106465, 0.6178465192070421, 0.6183821852034378, 0.6189178511998334, 0.6194535171962291, 0.6199891831926247, 0.6205248491890204, 0.621060515185416, 0.6215961811818117, 0.6221318471782074, 0.6226675131746029, 0.6232031791709987, 0.6237388451673942, 0.6242745111637898, 0.6248101771601855, 0.6253458431565811, 0.6258815091529768, 0.6264171751493725, 0.6269528411457681, 0.6274885071421638, 0.6280241731385594, 0.6285598391349551, 0.6290955051313507, 0.6296311711277464, 0.630166837124142, 0.6307025031205377, 0.6312381691169333, 0.631773835113329, 0.6323095011097246, 0.6328451671061202, 0.6333808331025159, 0.6339164990989115, 0.6344521650953072, 0.6349878310917028, 0.6355234970880985, 0.6360591630844941, 0.6365948290808897, 0.6371304950772854, 0.637666161073681, 0.6382018270700767, 0.6387374930664723, 0.639273159062868, 0.6398088250592636, 0.6403444910556593, 0.6408801570520549, 0.6414158230484506, 0.6419514890448462, 0.6424871550412419, 0.6430228210376375, 0.6435584870340332, 0.6440941530304288, 0.6446298190268245, 0.64516548502322, 0.6457011510196158, 0.6462368170160113, 0.6467724830124071, 0.6473081490088026, 0.6478438150051983, 0.6483794810015939, 0.6489151469979896, 0.6494508129943852, 0.6499864789907809, 0.6505221449871765, 0.6510578109835722, 0.6515934769799678, 0.6521291429763635, 0.6526648089727591, 0.6532004749691548, 0.6537361409655504, 0.6542718069619461, 0.6548074729583417, 0.6553431389547374, 0.655878804951133, 0.6564144709475286, 0.6569501369439243, 0.6574858029403199, 0.6580214689367156, 0.6585571349331112, 0.6590928009295068, 0.6596284669259025, 0.6601641329222981, 0.6606997989186938, 0.6612354649150894, 0.6617711309114851, 0.6623067969078807, 0.6628424629042764, 0.663378128900672, 0.6639137948970677, 0.6644494608934634, 0.664985126889859, 0.6655207928862547, 0.6660564588826503, 0.666592124879046, 0.6671277908754416, 0.6676634568718373, 0.6681991228682329, 0.6687347888646284, 0.6692704548610242, 0.6698061208574198, 0.6703417868538155, 0.670877452850211, 0.6714131188466067, 0.6719487848430024, 0.672484450839398, 0.6730201168357937, 0.6735557828321893, 0.674091448828585, 0.6746271148249806, 0.6751627808213763, 0.6756984468177719, 0.6762341128141676, 0.6767697788105632, 0.6773054448069589, 0.6778411108033545, 0.6783767767997502, 0.6789124427961458, 0.6794481087925415, 0.679983774788937, 0.6805194407853328, 0.6810551067817283, 0.6815907727781241, 0.6821264387745196, 0.6826621047709153, 0.6831977707673109, 0.6837334367637066, 0.6842691027601022, 0.6848047687564979, 0.6853404347528935, 0.6858761007492892, 0.6864117667456848, 0.6869474327420805, 0.6874830987384761, 0.6880187647348718, 0.6885544307312674, 0.6890900967276631, 0.6896257627240587, 0.6901614287204544, 0.69069709471685, 0.6912327607132456, 0.6917684267096413, 0.6923040927060369, 0.6928397587024326, 0.6933754246988282, 0.6939110906952239, 0.6944467566916195, 0.6949824226880151, 0.6955180886844108, 0.6960537546808064, 0.6965894206772021, 0.6971250866735977, 0.6976607526699934, 0.698196418666389, 0.6987320846627847, 0.6992677506591803, 0.699803416655576, 0.7003390826519716, 0.7008747486483673, 0.701410414644763, 0.7019460806411586, 0.7024817466375542, 0.7030174126339499, 0.7035530786303454, 0.7040887446267412, 0.7046244106231367, 0.7051600766195325, 0.705695742615928, 0.7062314086123237, 0.7067670746087193, 0.707302740605115, 0.7078384066015107, 0.7083740725979063, 0.708909738594302, 0.7094454045906976, 0.7099810705870933, 0.7105167365834889, 0.7110524025798846, 0.7115880685762802, 0.7121237345726759, 0.7126594005690715, 0.7131950665654672, 0.7137307325618628, 0.7142663985582585, 0.714802064554654, 0.7153377305510498, 0.7158733965474453, 0.7164090625438411, 0.7169447285402366, 0.7174803945366323, 0.7180160605330279, 0.7185517265294236, 0.7190873925258192, 0.7196230585222149, 0.7201587245186105, 0.7206943905150062, 0.7212300565114018, 0.7217657225077975, 0.7223013885041931, 0.7228370545005888, 0.7233727204969844, 0.7239083864933801, 0.7244440524897757, 0.7249797184861714, 0.725515384482567, 0.7260510504789627, 0.7265867164753583, 0.7271223824717539, 0.7276580484681496, 0.7281937144645452, 0.7287293804609409, 0.7292650464573365, 0.7298007124537321, 0.7303363784501278, 0.7308720444465234, 0.7314077104429191, 0.7319433764393147, 0.7324790424357104, 0.733014708432106, 0.7335503744285017, 0.7340860404248973, 0.734621706421293, 0.7351573724176886, 0.7356930384140843, 0.7362287044104799, 0.7367643704068756, 0.7373000364032712, 0.7378357023996669, 0.7383713683960624, 0.7389070343924582, 0.7394427003888537, 0.7399783663852495, 0.740514032381645, 0.7410496983780407, 0.7415853643744363, 0.742121030370832, 0.7426566963672276, 0.7431923623636233, 0.743728028360019, 0.7442636943564146, 0.7447993603528102, 0.7453350263492059, 0.7458706923456015, 0.7464063583419972, 0.7469420243383929, 0.7474776903347885, 0.7480133563311842, 0.7485490223275798, 0.7490846883239755, 0.749620354320371, 0.7501560203167668, 0.7506916863131623, 0.7512273523095581, 0.7517630183059536, 0.7522986843023494, 0.7528343502987449, 0.7533700162951407, 0.7539056822915362, 0.7544413482879319, 0.7549770142843275, 0.7555126802807232, 0.7560483462771188, 0.7565840122735145, 0.7571196782699101, 0.7576553442663058, 0.7581910102627014, 0.7587266762590971, 0.7592623422554927, 0.7597980082518883, 0.760333674248284, 0.7608693402446796, 0.7614050062410753, 0.7619406722374709, 0.7624763382338666, 0.7630120042302622, 0.7635476702266579, 0.7640833362230535, 0.7646190022194492, 0.7651546682158448, 0.7656903342122404, 0.7662260002086361, 0.7667616662050317, 0.7672973322014274, 0.767832998197823, 0.7683686641942187, 0.7689043301906143, 0.76943999618701, 0.7699756621834056, 0.7705113281798013, 0.7710469941761969, 0.7715826601725926, 0.7721183261689881, 0.7726539921653839, 0.7731896581617794, 0.7737253241581752, 0.7742609901545707, 0.7747966561509665, 0.775332322147362, 0.7758679881437578, 0.7764036541401533, 0.7769393201365491, 0.7774749861329446, 0.7780106521293403, 0.7785463181257359, 0.7790819841221316, 0.7796176501185272, 0.7801533161149229, 0.7806889821113185, 0.7812246481077142, 0.7817603141041098, 0.7822959801005055, 0.7828316460969011, 0.7833673120932967, 0.7839029780896924, 0.784438644086088, 0.7849743100824838, 0.7855099760788793, 0.786045642075275, 0.7865813080716706, 0.7871169740680664, 0.7876526400644619, 0.7881883060608577, 0.7887239720572532, 0.7892596380536488, 0.7897953040500445, 0.7903309700464402, 0.7908666360428358, 0.7914023020392315, 0.7919379680356271, 0.7924736340320228, 0.7930093000284184, 0.7935449660248141, 0.7940806320212097, 0.7946162980176054, 0.795151964014001, 0.7956876300103966, 0.7962232960067923, 0.7967589620031879, 0.7972946279995836, 0.7978302939959792, 0.7983659599923749, 0.7989016259887705, 0.7994372919851662, 0.7999729579815618, 0.8005086239779575, 0.8010442899743531, 0.8015799559707487, 0.8021156219671444, 0.80265128796354, 0.8031869539599357, 0.8037226199563313, 0.804258285952727, 0.8047939519491226, 0.8053296179455183, 0.8058652839419139, 0.8064009499383096, 0.8069366159347051, 0.8074722819311009, 0.8080079479274964, 0.8085436139238922, 0.8090792799202877, 0.8096149459166835, 0.810150611913079, 0.8106862779094748, 0.8112219439058703, 0.8117576099022661, 0.8122932758986616, 0.8128289418950573, 0.8133646078914529, 0.8139002738878486, 0.8144359398842442, 0.8149716058806399, 0.8155072718770355, 0.8160429378734312, 0.8165786038698268, 0.8171142698662225, 0.8176499358626181, 0.8181856018590137, 0.8187212678554094, 0.819256933851805, 0.8197925998482007, 0.8203282658445963, 0.820863931840992, 0.8213995978373876, 0.8219352638337833, 0.8224709298301789, 0.8230065958265746, 0.8235422618229702, 0.8240779278193658, 0.8246135938157615, 0.8251492598121571, 0.8256849258085528, 0.8262205918049484, 0.8267562578013441, 0.8272919237977397, 0.8278275897941354, 0.828363255790531, 0.8288989217869267, 0.8294345877833224, 0.829970253779718, 0.8305059197761135, 0.8310415857725093, 0.8315772517689048, 0.8321129177653006, 0.8326485837616961, 0.8331842497580919, 0.8337199157544875, 0.8342555817508832, 0.8347912477472788, 0.8353269137436745, 0.83586257974007, 0.8363982457364657, 0.8369339117328614, 0.837469577729257, 0.8380052437256527, 0.8385409097220483, 0.839076575718444, 0.8396122417148396, 0.8401479077112353, 0.8406835737076309, 0.8412192397040266, 0.8417549057004221, 0.8422905716968179, 0.8428262376932134, 0.8433619036896092, 0.8438975696860047, 0.8444332356824005, 0.844968901678796, 0.8455045676751918, 0.8460402336715873, 0.8465758996679831, 0.8471115656643786, 0.8476472316607743, 0.8481828976571699, 0.8487185636535656, 0.8492542296499612, 0.8497898956463569, 0.8503255616427525, 0.8508612276391482, 0.8513968936355438, 0.8519325596319395, 0.8524682256283351, 0.8530038916247308, 0.8535395576211264, 0.854075223617522, 0.8546108896139177, 0.8551465556103133, 0.855682221606709, 0.8562178876031046, 0.8567535535995003, 0.8572892195958959, 0.8578248855922916, 0.8583605515886872, 0.8588962175850828, 0.8594318835814785, 0.8599675495778741, 0.8605032155742698, 0.8610388815706654, 0.8615745475670611, 0.8621102135634567, 0.8626458795598524, 0.863181545556248, 0.8637172115526437, 0.8642528775490393, 0.864788543545435, 0.8653242095418305, 0.8658598755382263, 0.8663955415346218, 0.8669312075310176, 0.8674668735274131, 0.8680025395238089, 0.8685382055202044, 0.8690738715166002, 0.8696095375129957, 0.8701452035093915, 0.870680869505787, 0.8712165355021827, 0.8717522014985783, 0.872287867494974, 0.8728235334913697, 0.8733591994877653, 0.873894865484161, 0.8744305314805566, 0.8749661974769523, 0.8755018634733479, 0.8760375294697436, 0.8765731954661391, 0.8771088614625349, 0.8776445274589304, 0.8781801934553262, 0.8787158594517217, 0.8792515254481175, 0.879787191444513, 0.8803228574409088, 0.8808585234373043, 0.8813941894337001, 0.8819298554300956, 0.8824655214264913, 0.8830011874228869, 0.8835368534192826, 0.8840725194156782, 0.8846081854120739, 0.8851438514084695, 0.8856795174048652, 0.8862151834012608, 0.8867508493976565, 0.8872865153940521, 0.8878221813904478, 0.8883578473868434, 0.888893513383239, 0.8894291793796347, 0.8899648453760303, 0.890500511372426, 0.8910361773688216, 0.8915718433652173, 0.8921075093616129, 0.8926431753580086, 0.8931788413544042, 0.8937145073507999, 0.8942501733471955, 0.8947858393435911, 0.8953215053399868, 0.8958571713363824, 0.8963928373327781, 0.8969285033291737, 0.8974641693255694, 0.897999835321965, 0.8985355013183607, 0.8990711673147563, 0.899606833311152, 0.9001424993075475, 0.9006781653039433, 0.9012138313003388, 0.9017494972967346, 0.9022851632931301, 0.9028208292895259, 0.9033564952859214, 0.9038921612823172, 0.9044278272787127, 0.9049634932751085, 0.905499159271504, 0.9060348252678997, 0.9065704912642953, 0.907106157260691, 0.9076418232570866, 0.9081774892534823, 0.908713155249878, 0.9092488212462736, 0.9097844872426692, 0.9103201532390649, 0.9108558192354606, 0.9113914852318562, 0.9119271512282519, 0.9124628172246474, 0.9129984832210432, 0.9135341492174387, 0.9140698152138345, 0.91460548121023, 0.9151411472066258, 0.9156768132030213, 0.9162124791994171, 0.9167481451958126, 0.9172838111922083, 0.9178194771886039, 0.9183551431849996, 0.9188908091813952, 0.9194264751777909, 0.9199621411741865, 0.9204978071705822, 0.9210334731669778, 0.9215691391633735, 0.9221048051597691, 0.9226404711561648, 0.9231761371525604, 0.923711803148956, 0.9242474691453517, 0.9247831351417473, 0.925318801138143, 0.9258544671345386, 0.9263901331309343, 0.9269257991273299, 0.9274614651237256, 0.9279971311201212, 0.9285327971165169, 0.9290684631129125, 0.9296041291093081, 0.9301397951057038, 0.9306754611020994, 0.9312111270984951, 0.9317467930948907, 0.9322824590912864, 0.932818125087682, 0.9333537910840777, 0.9338894570804733, 0.934425123076869, 0.9349607890732645, 0.9354964550696603, 0.9360321210660558, 0.9365677870624516, 0.9371034530588471, 0.9376391190552429, 0.9381747850516384, 0.9387104510480342, 0.9392461170444297, 0.9397817830408255, 0.940317449037221, 0.9408531150336167, 0.9413887810300123, 0.941924447026408, 0.9424601130228036, 0.9429957790191993, 0.9435314450155949, 0.9440671110119906, 0.9446027770083862, 0.9451384430047819, 0.9456741090011775, 0.9462097749975732, 0.9467454409939688, 0.9472811069903644, 0.9478167729867601, 0.9483524389831557, 0.9488881049795514, 0.949423770975947, 0.9499594369723428, 0.9504951029687383, 0.951030768965134, 0.9515664349615296, 0.9521021009579254, 0.9526377669543209, 0.9531734329507165, 0.9537090989471122, 0.9542447649435079, 0.9547804309399035, 0.9553160969362992, 0.9558517629326948, 0.9563874289290905, 0.9569230949254861, 0.9574587609218818, 0.9579944269182774, 0.958530092914673, 0.9590657589110687, 0.9596014249074643, 0.96013709090386, 0.9606727569002556, 0.9612084228966513, 0.9617440888930469, 0.9622797548894426, 0.9628154208858382, 0.9633510868822339, 0.9638867528786295, 0.9644224188750251, 0.9649580848714208, 0.9654937508678164, 0.9660294168642121, 0.9665650828606077, 0.9671007488570034, 0.967636414853399, 0.9681720808497947, 0.9687077468461903, 0.969243412842586, 0.9697790788389815, 0.9703147448353773, 0.9708504108317728, 0.9713860768281686, 0.9719217428245641, 0.9724574088209599, 0.9729930748173554, 0.9735287408137512, 0.9740644068101467, 0.9746000728065425, 0.975135738802938, 0.9756714047993337, 0.9762070707957293, 0.976742736792125, 0.9772784027885206, 0.9778140687849163, 0.9783497347813119, 0.9788854007777076, 0.9794210667741032, 0.9799567327704989, 0.9804923987668945, 0.9810280647632902, 0.9815637307596858, 0.9820993967560814, 0.9826350627524771, 0.9831707287488727, 0.9837063947452684, 0.984242060741664, 0.9847777267380597, 0.9853133927344553, 0.985849058730851, 0.9863847247272466, 0.9869203907236423, 0.9874560567200379, 0.9879917227164335, 0.9885273887128292, 0.9890630547092248, 0.9895987207056205, 0.9901343867020161, 0.9906700526984118, 0.9912057186948074, 0.9917413846912031, 0.9922770506875987, 0.9928127166839944, 0.9933483826803899, 0.9938840486767857, 0.9944197146731812, 0.994955380669577, 0.9954910466659725, 0.9960267126623683, 0.9965623786587638, 0.9970980446551596, 0.9976337106515552, 0.9981693766479509, 0.9987050426443465, 0.9992407086407421, 0.9997763746371378, 1.0003120406335335, 1.000847706629929, 1.0013833726263246, 1.0019190386227204, 1.0024547046191161, 1.0029903706155117, 1.0035260366119072, 1.004061702608303, 1.0045973686046987, 1.0051330346010943, 1.0056687005974898, 1.0062043665938856, 1.0067400325902813, 1.0072756985866769, 1.0078113645830724, 1.008347030579468, 1.0088826965758637, 1.0094183625722595, 1.009954028568655, 1.0104896945650506, 1.0110253605614463, 1.011561026557842, 1.0120966925542376, 1.0126323585506332, 1.013168024547029, 1.0137036905434247, 1.0142393565398202, 1.0147750225362158, 1.0153106885326115, 1.0158463545290073, 1.0163820205254028, 1.0169176865217984, 1.0174533525181941, 1.01798901851459, 1.0185246845109854, 1.019060350507381, 1.0195960165037765, 1.0201316825001723, 1.020667348496568, 1.0212030144929636, 1.0217386804893591, 1.0222743464857549, 1.0228100124821506, 1.0233456784785462, 1.0238813444749417, 1.0244170104713375, 1.0249526764677332, 1.0254883424641288, 1.0260240084605243, 1.02655967445692, 1.0270953404533159, 1.0276310064497114, 1.028166672446107, 1.0287023384425027, 1.0292380044388985, 1.029773670435294, 1.0303093364316895, 1.0308450024280853, 1.0313806684244808, 1.0319163344208766, 1.0324520004172721, 1.0329876664136677, 1.0335233324100634, 1.0340589984064592, 1.0345946644028547, 1.0351303303992503, 1.035665996395646, 1.0362016623920418, 1.0367373283884374, 1.037272994384833, 1.0378086603812287, 1.0383443263776244, 1.03887999237402, 1.0394156583704155, 1.0399513243668113, 1.040486990363207, 1.0410226563596026, 1.041558322355998, 1.0420939883523939, 1.0426296543487896, 1.0431653203451852, 1.0437009863415807, 1.0442366523379762, 1.044772318334372, 1.0453079843307678, 1.0458436503271633, 1.0463793163235589, 1.0469149823199546, 1.0474506483163504, 1.047986314312746, 1.0485219803091415, 1.0490576463055372, 1.049593312301933, 1.0501289782983285, 1.050664644294724, 1.0512003102911198, 1.0517359762875156, 1.0522716422839111, 1.0528073082803067, 1.0533429742767024, 1.0538786402730982, 1.0544143062694937, 1.0549499722658893, 1.0554856382622848, 1.0560213042586806, 1.0565569702550763, 1.0570926362514719, 1.0576283022478674, 1.0581639682442632, 1.058699634240659, 1.0592353002370545, 1.05977096623345, 1.0603066322298458, 1.0608422982262415, 1.061377964222637, 1.0619136302190326, 1.0624492962154284, 1.0629849622118241, 1.0635206282082197, 1.0640562942046152, 1.064591960201011, 1.0651276261974068, 1.0656632921938023, 1.0661989581901978, 1.0667346241865934, 1.0672702901829891, 1.067805956179385, 1.0683416221757804, 1.068877288172176, 1.0694129541685717, 1.0699486201649675, 1.070484286161363, 1.0710199521577586, 1.0715556181541543, 1.07209128415055, 1.0726269501469456, 1.0731626161433412, 1.073698282139737, 1.0742339481361327, 1.0747696141325283, 1.0753052801289238, 1.0758409461253196, 1.0763766121217153, 1.0769122781181109, 1.0774479441145064, 1.077983610110902, 1.0785192761072977, 1.0790549421036935, 1.079590608100089, 1.0801262740964845, 1.0806619400928803, 1.081197606089276, 1.0817332720856716, 1.0822689380820671, 1.082804604078463, 1.0833402700748587, 1.0838759360712542, 1.0844116020676497, 1.0849472680640455, 1.0854829340604413, 1.0860186000568368, 1.0865542660532324, 1.0870899320496281, 1.0876255980460239, 1.0881612640424194, 1.088696930038815, 1.0892325960352107, 1.0897682620316063, 1.090303928028002, 1.0908395940243976, 1.091375260020793, 1.0919109260171889, 1.0924465920135846, 1.0929822580099802, 1.0935179240063757, 1.0940535900027715, 1.0945892559991672, 1.0951249219955628, 1.0956605879919583, 1.096196253988354, 1.0967319199847498, 1.0972675859811454, 1.097803251977541, 1.0983389179739367, 1.0988745839703324, 1.099410249966728, 1.0999459159631235, 1.1004815819595193, 1.101017247955915, 1.1015529139523106, 1.1020885799487061, 1.1026242459451017, 1.1031599119414974, 1.1036955779378932, 1.1042312439342887, 1.1047669099306843, 1.10530257592708, 1.1058382419234758, 1.1063739079198713, 1.1069095739162669, 1.1074452399126626, 1.1079809059090584, 1.108516571905454, 1.1090522379018495, 1.1095879038982452, 1.110123569894641, 1.1106592358910365, 1.111194901887432, 1.1117305678838278, 1.1122662338802236, 1.1128018998766191, 1.1133375658730147, 1.1138732318694102, 1.114408897865806, 1.1149445638622018, 1.1154802298585973, 1.1160158958549928, 1.1165515618513886, 1.1170872278477844, 1.11762289384418, 1.1181585598405754, 1.1186942258369712, 1.119229891833367, 1.1197655578297625, 1.120301223826158, 1.1208368898225538, 1.1213725558189496, 1.121908221815345, 1.1224438878117406, 1.1229795538081364, 1.1235152198045322, 1.1240508858009277, 1.1245865517973233, 1.1251222177937188, 1.1256578837901146, 1.1261935497865103, 1.1267292157829059, 1.1272648817793014, 1.1278005477756972, 1.128336213772093, 1.1288718797684885, 1.129407545764884, 1.1299432117612798, 1.1304788777576755, 1.131014543754071, 1.1315502097504666, 1.1320858757468624, 1.1326215417432581, 1.1331572077396537, 1.1336928737360492, 1.134228539732445, 1.1347642057288407, 1.1352998717252363, 1.1358355377216318, 1.1363712037180274, 1.1369068697144231, 1.1374425357108189, 1.1379782017072144, 1.13851386770361, 1.1390495337000057, 1.1395851996964015, 1.140120865692797, 1.1406565316891926, 1.1411921976855883, 1.141727863681984, 1.1422635296783796, 1.1427991956747752, 1.143334861671171, 1.1438705276675667, 1.1444061936639622, 1.1449418596603578, 1.1454775256567535, 1.1460131916531493, 1.1465488576495448, 1.1470845236459404, 1.1476201896423361, 1.1481558556387317, 1.1486915216351274, 1.149227187631523, 1.1497628536279185, 1.1502985196243143, 1.15083418562071, 1.1513698516171056, 1.1519055176135011, 1.152441183609897, 1.1529768496062927, 1.1535125156026882, 1.1540481815990837, 1.1545838475954795, 1.1551195135918753, 1.1556551795882708, 1.1561908455846663, 1.156726511581062, 1.1572621775774579, 1.1577978435738534, 1.158333509570249, 1.1588691755666447, 1.1594048415630402, 1.159940507559436, 1.1604761735558315, 1.161011839552227, 1.1615475055486228, 1.1620831715450186, 1.1626188375414142, 1.1631545035378097, 1.1636901695342055, 1.1642258355306012, 1.1647615015269968, 1.1652971675233923, 1.165832833519788, 1.1663684995161838, 1.1669041655125794, 1.167439831508975, 1.1679754975053707, 1.1685111635017664, 1.169046829498162, 1.1695824954945575, 1.1701181614909533, 1.170653827487349, 1.1711894934837446, 1.17172515948014, 1.1722608254765357, 1.1727964914729314, 1.1733321574693272, 1.1738678234657227, 1.1744034894621183, 1.174939155458514, 1.1754748214549098, 1.1760104874513053, 1.1765461534477009, 1.1770818194440966, 1.1776174854404924, 1.178153151436888, 1.1786888174332835, 1.1792244834296792, 1.179760149426075, 1.1802958154224705, 1.180831481418866, 1.1813671474152618, 1.1819028134116576, 1.1824384794080531, 1.1829741454044487, 1.1835098114008442, 1.18404547739724, 1.1845811433936357, 1.1851168093900313, 1.1856524753864268, 1.1861881413828226, 1.1867238073792183, 1.1872594733756139, 1.1877951393720094, 1.1883308053684052, 1.188866471364801, 1.1894021373611965, 1.189937803357592, 1.1904734693539878, 1.1910091353503836, 1.191544801346779, 1.1920804673431746, 1.1926161333395704, 1.1931517993359662, 1.1936874653323617, 1.1942231313287572, 1.1947587973251528, 1.1952944633215485, 1.1958301293179443, 1.1963657953143398, 1.1969014613107354, 1.1974371273071311, 1.197972793303527, 1.1985084592999224, 1.199044125296318, 1.1995797912927137, 1.2001154572891095, 1.200651123285505, 1.2011867892819006, 1.2017224552782964, 1.2022581212746921, 1.2027937872710877, 1.2033294532674832, 1.203865119263879, 1.2044007852602747, 1.2049364512566703, 1.2054721172530658, 1.2060077832494616, 1.206543449245857, 1.2070791152422529, 1.2076147812386484, 1.208150447235044, 1.2086861132314397, 1.2092217792278355, 1.209757445224231, 1.2102931112206265, 1.2108287772170223, 1.211364443213418, 1.2119001092098136, 1.2124357752062092, 1.212971441202605, 1.2135071071990007, 1.2140427731953962, 1.2145784391917918, 1.2151141051881875, 1.2156497711845833, 1.2161854371809788, 1.2167211031773744, 1.2172567691737701, 1.2177924351701657, 1.2183281011665614, 1.218863767162957, 1.2193994331593525, 1.2199350991557483, 1.220470765152144, 1.2210064311485396, 1.2215420971449351, 1.2220777631413309, 1.2226134291377266, 1.2231490951341222, 1.2236847611305177, 1.2242204271269135, 1.2247560931233092, 1.2252917591197048, 1.2258274251161003, 1.226363091112496, 1.2268987571088918, 1.2274344231052874, 1.227970089101683, 1.2285057550980787, 1.2290414210944745, 1.22957708709087, 1.2301127530872655, 1.230648419083661, 1.2311840850800568, 1.2317197510764526, 1.2322554170728481, 1.2327910830692437, 1.2333267490656394, 1.2338624150620352, 1.2343980810584307, 1.2349337470548263, 1.235469413051222, 1.2360050790476178, 1.2365407450440133, 1.2370764110404089, 1.2376120770368046, 1.2381477430332004, 1.238683409029596, 1.2392190750259915, 1.2397547410223873, 1.240290407018783, 1.2408260730151786, 1.241361739011574, 1.2418974050079696, 1.2424330710043654, 1.2429687370007612, 1.2435044029971567, 1.2440400689935522, 1.244575734989948, 1.2451114009863438, 1.2456470669827393, 1.2461827329791348, 1.2467183989755306, 1.2472540649719264, 1.247789730968322, 1.2483253969647174, 1.2488610629611132, 1.249396728957509, 1.2499323949539045, 1.2504680609503, 1.2510037269466958, 1.2515393929430916, 1.2520750589394871, 1.2526107249358827, 1.2531463909322782, 1.253682056928674, 1.2542177229250697, 1.2547533889214653, 1.2552890549178608, 1.2558247209142566, 1.2563603869106523, 1.2568960529070479, 1.2574317189034434, 1.2579673848998392, 1.258503050896235, 1.2590387168926305, 1.259574382889026, 1.2601100488854218, 1.2606457148818175, 1.261181380878213, 1.2617170468746086, 1.2622527128710044, 1.2627883788674001, 1.2633240448637957, 1.2638597108601912, 1.264395376856587, 1.2649310428529825, 1.2654667088493783, 1.2660023748457738, 1.2665380408421694, 1.2670737068385651, 1.267609372834961, 1.2681450388313564, 1.268680704827752, 1.2692163708241477, 1.2697520368205435, 1.270287702816939, 1.2708233688133346, 1.2713590348097303, 1.271894700806126, 1.2724303668025216, 1.2729660327989172, 1.273501698795313, 1.2740373647917087, 1.2745730307881042, 1.2751086967844998, 1.2756443627808955, 1.276180028777291, 1.2767156947736868, 1.2772513607700824, 1.277787026766478, 1.2783226927628737, 1.2788583587592695, 1.279394024755665, 1.2799296907520605, 1.2804653567484563, 1.281001022744852, 1.2815366887412476, 1.2820723547376431, 1.282608020734039, 1.2831436867304347, 1.2836793527268302, 1.2842150187232257, 1.2847506847196215, 1.2852863507160173, 1.2858220167124128, 1.2863576827088083, 1.286893348705204, 1.2874290147015999, 1.2879646806979954, 1.288500346694391, 1.2890360126907865, 1.2895716786871823, 1.290107344683578, 1.2906430106799736, 1.291178676676369, 1.2917143426727649, 1.2922500086691606, 1.2927856746655562, 1.2933213406619517, 1.2938570066583475, 1.2943926726547432, 1.2949283386511388, 1.2954640046475343, 1.29599967064393, 1.2965353366403258, 1.2970710026367214, 1.297606668633117, 1.2981423346295127, 1.2986780006259084, 1.299213666622304, 1.2997493326186995, 1.300284998615095, 1.3008206646114908, 1.3013563306078866, 1.3018919966042821, 1.3024276626006777, 1.3029633285970734, 1.3034989945934692, 1.3040346605898647, 1.3045703265862603, 1.305105992582656, 1.3056416585790518, 1.3061773245754473, 1.3067129905718429, 1.3072486565682386, 1.3077843225646344, 1.30831998856103, 1.3088556545574255, 1.3093913205538212, 1.309926986550217, 1.3104626525466125, 1.310998318543008, 1.3115339845394036, 1.3120696505357994, 1.3126053165321951, 1.3131409825285907, 1.3136766485249862, 1.314212314521382, 1.3147479805177777, 1.3152836465141733, 1.3158193125105688, 1.3163549785069646, 1.3168906445033604, 1.317426310499756, 1.3179619764961514, 1.3184976424925472, 1.319033308488943, 1.3195689744853385, 1.320104640481734, 1.3206403064781298, 1.3211759724745256, 1.321711638470921, 1.3222473044673166, 1.3227829704637124, 1.323318636460108, 1.3238543024565037, 1.3243899684528992, 1.3249256344492948, 1.3254613004456905, 1.3259969664420863, 1.3265326324384819, 1.3270682984348774, 1.3276039644312732, 1.328139630427669, 1.3286752964240645, 1.32921096242046, 1.3297466284168558, 1.3302822944132515, 1.330817960409647, 1.3313536264060426, 1.3318892924024384, 1.3324249583988341, 1.3329606243952297, 1.3334962903916252, 1.334031956388021, 1.3345676223844165, 1.3351032883808123, 1.3356389543772078, 1.3361746203736034, 1.3367102863699991, 1.3372459523663949, 1.3377816183627904, 1.338317284359186, 1.3388529503555817, 1.3393886163519775, 1.339924282348373, 1.3404599483447686, 1.3409956143411643, 1.34153128033756, 1.3420669463339556, 1.3426026123303512, 1.343138278326747, 1.3436739443231427, 1.3442096103195382, 1.3447452763159338, 1.3452809423123295, 1.3458166083087253, 1.3463522743051208, 1.3468879403015164, 1.347423606297912, 1.3479592722943077, 1.3484949382907034, 1.349030604287099, 1.3495662702834945, 1.3501019362798903, 1.350637602276286, 1.3511732682726816, 1.3517089342690771, 1.3522446002654729, 1.3527802662618686, 1.3533159322582642, 1.3538515982546597, 1.3543872642510555, 1.3549229302474513, 1.3554585962438468, 1.3559942622402423, 1.356529928236638, 1.3570655942330339, 1.3576012602294294, 1.358136926225825, 1.3586725922222205, 1.3592082582186162, 1.359743924215012, 1.3602795902114075, 1.360815256207803, 1.3613509222041988, 1.3618865882005946, 1.3624222541969901, 1.3629579201933857, 1.3634935861897814, 1.3640292521861772, 1.3645649181825728, 1.3651005841789683, 1.365636250175364, 1.3661719161717598, 1.3667075821681554, 1.367243248164551, 1.3677789141609467, 1.3683145801573424, 1.368850246153738, 1.3693859121501335, 1.369921578146529, 1.3704572441429248, 1.3709929101393206, 1.371528576135716, 1.3720642421321116, 1.3725999081285074, 1.3731355741249032, 1.3736712401212987, 1.3742069061176942, 1.37474257211409, 1.3752782381104858, 1.3758139041068813, 1.3763495701032769, 1.3768852360996726, 1.3774209020960684, 1.377956568092464, 1.3784922340888595, 1.3790279000852552, 1.379563566081651, 1.3800992320780465, 1.380634898074442, 1.3811705640708376, 1.3817062300672334, 1.3822418960636291, 1.3827775620600247, 1.3833132280564202, 1.383848894052816, 1.3843845600492117, 1.3849202260456073, 1.3854558920420028, 1.3859915580383986, 1.3865272240347943, 1.3870628900311899, 1.3875985560275854, 1.3881342220239812, 1.388669888020377, 1.3892055540167725, 1.389741220013168, 1.3902768860095638, 1.3908125520059595, 1.391348218002355, 1.3918838839987506, 1.3924195499951464, 1.392955215991542, 1.3934908819879377, 1.3940265479843332, 1.3945622139807288, 1.3950978799771245, 1.3956335459735203, 1.3961692119699158, 1.3967048779663114, 1.3972405439627071, 1.397776209959103, 1.3983118759554984, 1.398847541951894, 1.3993832079482897, 1.3999188739446855, 1.400454539941081, 1.4009902059374766, 1.4015258719338723, 1.402061537930268, 1.4025972039266636, 1.4031328699230592, 1.403668535919455, 1.4042042019158507, 1.4047398679122463, 1.4052755339086418, 1.4058111999050373, 1.406346865901433, 1.4068825318978289, 1.4074181978942244, 1.40795386389062, 1.4084895298870157, 1.4090251958834115, 1.409560861879807, 1.4100965278762025, 1.4106321938725983, 1.411167859868994, 1.4117035258653896, 1.4122391918617851, 1.412774857858181, 1.4133105238545767, 1.4138461898509722, 1.4143818558473678, 1.4149175218437635, 1.4154531878401593, 1.4159888538365548, 1.4165245198329504, 1.417060185829346, 1.4175958518257417, 1.4181315178221374, 1.418667183818533, 1.4192028498149285, 1.4197385158113243, 1.42027418180772, 1.4208098478041156, 1.421345513800511, 1.4218811797969069, 1.4224168457933026, 1.4229525117896982, 1.4234881777860937, 1.4240238437824895, 1.4245595097788852, 1.4250951757752808, 1.4256308417716763, 1.426166507768072, 1.4267021737644678, 1.4272378397608634, 1.427773505757259, 1.4283091717536545, 1.4288448377500502, 1.429380503746446, 1.4299161697428415, 1.430451835739237, 1.4309875017356328, 1.4315231677320286, 1.4320588337284241, 1.4325944997248197, 1.4331301657212154, 1.4336658317176112, 1.4342014977140067, 1.4347371637104023, 1.435272829706798, 1.4358084957031938, 1.4363441616995893, 1.4368798276959849, 1.4374154936923806, 1.4379511596887764, 1.438486825685172, 1.4390224916815675, 1.439558157677963, 1.4400938236743588, 1.4406294896707545, 1.44116515566715, 1.4417008216635456, 1.4422364876599414, 1.4427721536563372, 1.4433078196527327, 1.4438434856491282, 1.444379151645524, 1.4449148176419198, 1.4454504836383153, 1.4459861496347108, 1.4465218156311066, 1.4470574816275024, 1.447593147623898, 1.4481288136202934, 1.4486644796166892, 1.449200145613085, 1.4497358116094805, 1.450271477605876, 1.4508071436022718, 1.4513428095986673, 1.4518784755950631, 1.4524141415914587, 1.4529498075878542, 1.45348547358425, 1.4540211395806457, 1.4545568055770413, 1.4550924715734368, 1.4556281375698326, 1.4561638035662283, 1.4566994695626239, 1.4572351355590194, 1.4577708015554152, 1.458306467551811, 1.4588421335482065, 1.459377799544602, 1.4599134655409978, 1.4604491315373935, 1.460984797533789, 1.4615204635301846, 1.4620561295265804, 1.4625917955229761, 1.4631274615193717, 1.4636631275157672, 1.4641987935121628, 1.4647344595085585, 1.4652701255049543, 1.4658057915013498, 1.4663414574977454, 1.4668771234941411, 1.4674127894905369, 1.4679484554869324, 1.468484121483328, 1.4690197874797237, 1.4695554534761195, 1.470091119472515, 1.4706267854689106, 1.4711624514653063, 1.471698117461702, 1.4722337834580976, 1.4727694494544932, 1.473305115450889, 1.4738407814472847, 1.4743764474436802, 1.4749121134400758, 1.4754477794364713, 1.475983445432867, 1.4765191114292628, 1.4770547774256584, 1.477590443422054, 1.4781261094184497, 1.4786617754148454, 1.479197441411241, 1.4797331074076365, 1.4802687734040323, 1.480804439400428, 1.4813401053968236, 1.4818757713932191, 1.482411437389615, 1.4829471033860107, 1.4834827693824062, 1.4840184353788017, 1.4845541013751975, 1.4850897673715933, 1.4856254333679888, 1.4861610993643843, 1.4866967653607799, 1.4872324313571756, 1.4877680973535714, 1.488303763349967, 1.4888394293463625, 1.4893750953427582, 1.489910761339154, 1.4904464273355496, 1.490982093331945, 1.4915177593283409, 1.4920534253247366, 1.4925890913211322, 1.4931247573175277, 1.4936604233139235, 1.4941960893103192, 1.4947317553067148, 1.4952674213031103, 1.495803087299506, 1.4963387532959018, 1.4968744192922974, 1.497410085288693, 1.4979457512850884, 1.4984814172814842, 1.49901708327788, 1.4995527492742755, 1.5000884152706713, 1.5006240812670668, 1.5011597472634626, 1.5016954132598581, 1.5022310792562539, 1.5027667452526494, 1.5033024112490452, 1.5038380772454407, 1.5043737432418363, 1.504909409238232, 1.5054450752346276, 1.5059807412310233, 1.5065164072274189, 1.5070520732238146, 1.5075877392202102, 1.508123405216606, 1.5086590712130015, 1.5091947372093972, 1.5097304032057928, 1.5102660692021885, 1.510801735198584, 1.5113374011949798, 1.5118730671913754, 1.5124087331877711, 1.5129443991841667, 1.5134800651805624, 1.514015731176958, 1.5145513971733537, 1.5150870631697493, 1.5156227291661448, 1.5161583951625406, 1.5166940611589361, 1.5172297271553319, 1.5177653931517274, 1.5183010591481232, 1.5188367251445187, 1.5193723911409145, 1.51990805713731, 1.5204437231337058, 1.5209793891301013, 1.521515055126497, 1.5220507211228926, 1.5225863871192884, 1.523122053115684, 1.5236577191120797, 1.5241933851084752, 1.524729051104871, 1.5252647171012665, 1.5258003830976623, 1.5263360490940578, 1.5268717150904536, 1.5274073810868491, 1.5279430470832447, 1.5284787130796404, 1.529014379076036, 1.5295500450724318, 1.5300857110688273, 1.530621377065223, 1.5311570430616186, 1.5316927090580144, 1.53222837505441, 1.5327640410508057, 1.5332997070472012, 1.533835373043597, 1.5343710390399925, 1.5349067050363883, 1.5354423710327838, 1.5359780370291796, 1.536513703025575, 1.5370493690219709, 1.5375850350183664, 1.5381207010147622, 1.5386563670111577, 1.5391920330075533, 1.539727699003949, 1.5402633650003446, 1.5407990309967403, 1.5413346969931359, 1.5418703629895316, 1.5424060289859272, 1.542941694982323, 1.5434773609787185, 1.5440130269751142, 1.5445486929715098, 1.5450843589679055, 1.545620024964301, 1.5461556909606968, 1.5466913569570924, 1.5472270229534881, 1.5477626889498837, 1.5482983549462794, 1.548834020942675, 1.5493696869390707, 1.5499053529354663, 1.5504410189318618, 1.5509766849282576, 1.5515123509246531, 1.5520480169210489, 1.5525836829174444, 1.5531193489138402, 1.5536550149102357, 1.5541906809066315, 1.554726346903027, 1.5552620128994228, 1.5557976788958183, 1.556333344892214, 1.5568690108886096, 1.5574046768850054, 1.557940342881401, 1.5584760088777967, 1.5590116748741922, 1.559547340870588, 1.5600830068669835, 1.5606186728633793, 1.5611543388597748, 1.5616900048561706, 1.5622256708525661, 1.5627613368489617, 1.5632970028453574, 1.563832668841753, 1.5643683348381487, 1.5649040008345443, 1.56543966683094, 1.5659753328273356, 1.5665109988237313, 1.5670466648201269, 1.5675823308165227, 1.5681179968129182, 1.568653662809314, 1.5691893288057095, 1.5697249948021053, 1.5702606607985008, 1.5707963267948966], \"xaxis\": \"x\", \"y\": [null, null, null, null, null, null, null, null, null, null, null, null, null, null, null, null, null, null, null, null, null, null, null, null, null, null, null, null, null, null, null, null, null, null, null, null, null, null, null, null, null, null, null, null, null, null, null, null, null, null, null, null, null, null, null, null, null, null, null, null, null, null, null, null, null, null, null, null, null, null, null, null, null, null, null, null, null, null, null, null, null, null, null, null, null, null, null, null, null, null, null, null, null, null, null, null, null, null, null, null, null, null, null, null, null, null, null, null, null, null, null, null, null, null, null, null, null, null, null, null, null, null, null, null, null, null, null, null, null, null, null, null, null, null, null, null, null, null, null, null, null, null, null, null, null, null, null, null, null, null, null, null, null, null, null, null, null, null, null, null, null, null, null, null, null, null, null, null, null, null, null, null, null, null, null, null, null, null, null, null, null, null, null, null, null, null, null, null, null, null, null, null, null, null, null, null, null, null, null, null, null, null, null, null, null, null, null, null, null, null, null, null, null, null, null, null, null, null, null, null, null, null, null, null, null, null, null, null, null, null, null, null, null, null, null, null, null, null, null, null, null, null, null, null, null, null, null, null, null, null, null, null, null, null, null, null, null, null, null, null, null, null, null, null, null, null, null, null, null, null, null, null, null, null, null, null, null, null, null, null, null, null, null, null, null, null, null, null, null, null, null, null, null, null, null, null, null, null, null, null, null, null, null, null, null, null, null, null, null, null, null, null, null, null, null, null, null, null, null, null, null, null, null, null, null, null, null, null, null, null, null, null, null, null, null, null, null, null, null, null, null, null, null, null, null, null, null, null, null, null, null, null, null, null, null, null, null, null, null, null, null, null, null, null, null, null, null, null, null, null, null, null, null, null, null, null, null, null, null, null, null, null, null, null, null, null, null, null, null, null, null, null, null, null, null, null, null, null, null, null, null, null, null, null, null, null, null, null, null, null, null, null, null, null, null, null, null, null, null, null, null, null, null, null, null, null, null, null, null, null, null, null, null, null, null, null, null, null, null, null, null, null, null, null, null, null, null, null, null, null, null, null, null, null, null, null, null, null, null, null, null, null, null, null, null, null, null, null, null, null, null, null, null, null, null, null, null, null, null, null, null, null, null, null, null, null, null, null, null, null, null, null, null, null, null, null, null, null, null, null, null, null, null, null, null, null, null, null, null, null, null, null, null, null, null, null, null, null, null, null, null, null, null, null, null, null, null, null, null, null, null, null, null, null, null, null, null, null, null, null, null, null, null, null, null, null, null, null, null, null, null, null, null, null, null, null, null, null, null, null, null, null, null, null, null, null, null, null, null, null, null, null, null, null, null, null, null, null, null, null, null, null, null, null, null, null, null, null, null, null, null, null, null, null, null, null, null, null, null, null, null, null, null, null, null, null, null, null, null, null, null, null, null, null, null, null, null, null, null, null, null, null, null, null, null, null, null, null, null, null, null, null, null, null, null, null, null, null, null, null, null, null, null, null, null, null, null, null, null, null, null, null, null, null, null, null, null, null, null, null, null, null, null, null, null, null, null, null, null, null, null, null, null, null, null, null, null, null, null, null, null, null, null, null, null, null, null, null, null, null, null, null, null, null, null, null, null, null, null, null, null, null, null, null, null, null, null, null, null, null, null, null, null, null, null, null, null, null, null, null, null, null, null, null, null, null, null, null, null, null, null, null, null, null, null, null, null, null, null, null, null, null, null, null, null, null, null, null, null, null, null, null, null, null, null, null, null, null, null, null, null, null, null, null, null, null, null, null, null, null, null, null, null, null, null, null, null, null, null, null, null, null, null, null, null, null, null, null, null, null, null, null, null, null, null, null, null, null, null, null, null, null, null, null, null, null, null, null, null, null, null, null, null, null, null, null, null, null, null, null, null, null, null, null, null, null, null, null, null, null, null, null, null, null, null, null, null, null, null, null, null, null, null, null, null, null, null, null, null, null, null, null, null, null, null, null, null, null, null, null, null, null, null, null, null, null, null, null, null, null, null, null, null, null, null, null, null, null, null, null, null, null, null, null, null, null, null, null, null, null, null, null, null, null, null, null, null, null, null, null, null, null, null, null, null, null, null, null, null, null, null, null, null, null, null, null, null, null, null, null, null, null, null, null, null, null, null, null, null, null, null, null, null, null, null, null, null, null, null, null, null, null, null, null, null, null, null, null, null, null, null, null, null, null, null, null, null, null, null, null, null, null, null, null, null, null, null, null, null, null, null, null, null, null, null, null, null, null, null, null, null, null, null, null, null, null, null, null, null, null, null, null, null, null, null, null, null, null, null, null, null, null, null, null, null, null, null, null, null, null, null, null, null, null, null, null, null, null, null, null, null, null, null, null, null, null, null, null, null, null, null, null, null, null, null, null, null, null, null, null, null, null, null, null, null, null, null, null, null, null, null, null, null, null, null, null, null, null, null, null, null, null, null, null, null, null, null, null, null, null, null, null, null, null, null, null, null, null, null, null, null, null, null, null, null, null, null, null, null, null, null, null, null, null, null, null, null, null, null, null, null, null, null, null, null, null, null, null, null, null, null, null, null, null, null, null, null, null, null, null, null, null, null, null, null, null, null, null, null, null, null, null, null, null, null, null, null, null, null, null, null, null, null, null, null, null, null, null, null, null, null, null, null, null, null, null, null, null, null, null, null, null, null, null, null, null, null, null, null, null, null, null, null, null, null, null, null, null, null, null, null, null, null, null, null, null, null, null, null, null, null, null, null, null, null, null, null, null, null, null, null, null, null, null, null, null, null, null, null, null, null, null, null, null, null, null, null, null, null, null, null, null, null, null, null, null, null, null, null, null, null, null, null, null, null, null, null, null, null, null, null, null, null, null, null, null, null, null, null, null, null, null, null, null, null, null, null, null, null, null, null, null, null, null, null, null, null, null, null, null, null, null, null, null, null, null, null, null, null, null, null, null, null, null, null, null, null, null, null, null, null, null, null, null, null, null, null, null, null, null, null, null, null, null, null, null, null, null, null, null, null, null, null, null, null, null, null, null, null, null, null, null, null, null, null, null, null, null, null, null, null, null, null, null, null, null, null, null, null, null, null, null, null, null, null, null, null, null, null, null, null, null, null, null, null, null, null, null, null, null, null, null, null, null, null, null, null, null, null, null, null, null, null, null, null, null, null, null, null, null, null, null, null, null, null, null, null, null, null, null, null, null, null, null, null, null, null, null, null, null, null, null, null, null, null, null, null, null, null, null, null, null, null, null, null, null, null, null, null, null, null, null, null, null, null, null, null, null, null, null, null, null, null, null, null, null, null, null, null, null, null, null, null, null, null, null, null, null, null, null, null, null, null, null, null, null, null, null, null, null, null, null, null, null, null, null, null, null, null, null, null, null, null, null, null, null, null, null, null, null, null, null, null, null, null, null, null, null, null, null, null, null, null, null, null, null, null, null, null, null, null, null, null, null, null, null, null, null, null, null, null, null, null, null, null, null, null, null, null, null, null, null, null, null, null, null, null, null, null, null, null, null, null, null, null, null, null, null, null, null, null, null, null, null, null, null, null, null, null, null, null, null, null, null, null, null, null, null, null, null, null, null, null, null, null, null, null, null, null, null, null, null, null, null, null, null, null, null, null, null, null, null, null, null, null, null, null, null, null, null, null, null, null, null, null, null, null, null, null, null, null, null, null, null, null, null, null, null, null, null, null, null, null, null, null, null, null, null, null, null, null, null, null, null, null, null, null, null, null, null, null, null, null, null, null, null, null, null, null, null, null, null, null, null, null, null, null, null, null, null, null, null, null, null, null, null, null, null, null, null, null, null, null, null, null, null, null, null, null, null, null, null, null, null, null, null, null, null, null, null, null, null, null, null, null, null, null, null, null, null, null, null, null, null, null, null, null, null, null, null, null, null, null, null, null, null, null, null, null, null, null, null, null, null, null, null, null, null, null, null, null, null, null, null, null, null, null, null, null, null, null, null, null, null, null, null, null, null, null, null, null, null, null, null, null, null, null, null, null, null, null, null, null, null, null, null, null, null, null, null, null, null, null, null, null, null, null, null, null, null, null, null, null, null, null, null, null, null, null, null, null, null, null, null, null, null, null, null, null, null, null, null, null, null, null, null, null, null, null, null, null, null, null, null, null, null, null, null, null, null, null, null, null, null, null, null, null, null, null, null, null, null, null, null, null, null, null, null, null, null, null, null, null, null, null, null, null, null, null, null, null, null, null, null, null, null, null, null, null, null, null, null, null, null, null, null, null, null, null, null, null, null, null, null, null, null, null, null, null, null, null, null, null, null, null, null, null, null, null, null, null, null, null, null, null, null, null, null, null, null, null, null, null, null, null, null, null, null, null, null, null, null, null, null, null, null, null, null, null, null, null, null, null, null, null, null, null, null, null, null, null, null, null, null, null, null, null, null, null, null, null, null, null, null, null, null, null, null, null, null, null, null, null, null, null, null, null, null, null, null, null, null, null, null, null, null, null, null, null, null, null, null, null, null, null, null, null, null, null, null, null, null, null, null, null, null, null, null, null, null, null, null, null, null, null, null, null, null, null, null, null, null, null, null, null, null, null, null, null, null], \"yaxis\": \"y\"}],\n",
              "                        {\"legend\": {\"tracegroupgap\": 0}, \"margin\": {\"t\": 60}, \"template\": {\"data\": {\"bar\": [{\"error_x\": {\"color\": \"rgb(51,51,51)\"}, \"error_y\": {\"color\": \"rgb(51,51,51)\"}, \"marker\": {\"line\": {\"color\": \"rgb(237,237,237)\", \"width\": 0.5}}, \"type\": \"bar\"}], \"barpolar\": [{\"marker\": {\"line\": {\"color\": \"rgb(237,237,237)\", \"width\": 0.5}}, \"type\": \"barpolar\"}], \"carpet\": [{\"aaxis\": {\"endlinecolor\": \"rgb(51,51,51)\", \"gridcolor\": \"white\", \"linecolor\": \"white\", \"minorgridcolor\": \"white\", \"startlinecolor\": \"rgb(51,51,51)\"}, \"baxis\": {\"endlinecolor\": \"rgb(51,51,51)\", \"gridcolor\": \"white\", \"linecolor\": \"white\", \"minorgridcolor\": \"white\", \"startlinecolor\": \"rgb(51,51,51)\"}, \"type\": \"carpet\"}], \"choropleth\": [{\"colorbar\": {\"outlinewidth\": 0, \"tickcolor\": \"rgb(237,237,237)\", \"ticklen\": 6, \"ticks\": \"inside\"}, \"type\": \"choropleth\"}], \"contour\": [{\"colorbar\": {\"outlinewidth\": 0, \"tickcolor\": \"rgb(237,237,237)\", \"ticklen\": 6, \"ticks\": \"inside\"}, \"colorscale\": [[0, \"rgb(20,44,66)\"], [1, \"rgb(90,179,244)\"]], \"type\": \"contour\"}], \"contourcarpet\": [{\"colorbar\": {\"outlinewidth\": 0, \"tickcolor\": \"rgb(237,237,237)\", \"ticklen\": 6, \"ticks\": \"inside\"}, \"type\": \"contourcarpet\"}], \"heatmap\": [{\"colorbar\": {\"outlinewidth\": 0, \"tickcolor\": \"rgb(237,237,237)\", \"ticklen\": 6, \"ticks\": \"inside\"}, \"colorscale\": [[0, \"rgb(20,44,66)\"], [1, \"rgb(90,179,244)\"]], \"type\": \"heatmap\"}], \"heatmapgl\": [{\"colorbar\": {\"outlinewidth\": 0, \"tickcolor\": \"rgb(237,237,237)\", \"ticklen\": 6, \"ticks\": \"inside\"}, \"colorscale\": [[0, \"rgb(20,44,66)\"], [1, \"rgb(90,179,244)\"]], \"type\": \"heatmapgl\"}], \"histogram\": [{\"marker\": {\"colorbar\": {\"outlinewidth\": 0, \"tickcolor\": \"rgb(237,237,237)\", \"ticklen\": 6, \"ticks\": \"inside\"}}, \"type\": \"histogram\"}], \"histogram2d\": [{\"colorbar\": {\"outlinewidth\": 0, \"tickcolor\": \"rgb(237,237,237)\", \"ticklen\": 6, \"ticks\": \"inside\"}, \"colorscale\": [[0, \"rgb(20,44,66)\"], [1, \"rgb(90,179,244)\"]], \"type\": \"histogram2d\"}], \"histogram2dcontour\": [{\"colorbar\": {\"outlinewidth\": 0, \"tickcolor\": \"rgb(237,237,237)\", \"ticklen\": 6, \"ticks\": \"inside\"}, \"colorscale\": [[0, \"rgb(20,44,66)\"], [1, \"rgb(90,179,244)\"]], \"type\": \"histogram2dcontour\"}], \"mesh3d\": [{\"colorbar\": {\"outlinewidth\": 0, \"tickcolor\": \"rgb(237,237,237)\", \"ticklen\": 6, \"ticks\": \"inside\"}, \"type\": \"mesh3d\"}], \"parcoords\": [{\"line\": {\"colorbar\": {\"outlinewidth\": 0, \"tickcolor\": \"rgb(237,237,237)\", \"ticklen\": 6, \"ticks\": \"inside\"}}, \"type\": \"parcoords\"}], \"pie\": [{\"automargin\": true, \"type\": \"pie\"}], \"scatter\": [{\"marker\": {\"colorbar\": {\"outlinewidth\": 0, \"tickcolor\": \"rgb(237,237,237)\", \"ticklen\": 6, \"ticks\": \"inside\"}}, \"type\": \"scatter\"}], \"scatter3d\": [{\"line\": {\"colorbar\": {\"outlinewidth\": 0, \"tickcolor\": \"rgb(237,237,237)\", \"ticklen\": 6, \"ticks\": \"inside\"}}, \"marker\": {\"colorbar\": {\"outlinewidth\": 0, \"tickcolor\": \"rgb(237,237,237)\", \"ticklen\": 6, \"ticks\": \"inside\"}}, \"type\": \"scatter3d\"}], \"scattercarpet\": [{\"marker\": {\"colorbar\": {\"outlinewidth\": 0, \"tickcolor\": \"rgb(237,237,237)\", \"ticklen\": 6, \"ticks\": \"inside\"}}, \"type\": \"scattercarpet\"}], \"scattergeo\": [{\"marker\": {\"colorbar\": {\"outlinewidth\": 0, \"tickcolor\": \"rgb(237,237,237)\", \"ticklen\": 6, \"ticks\": \"inside\"}}, \"type\": \"scattergeo\"}], \"scattergl\": [{\"marker\": {\"colorbar\": {\"outlinewidth\": 0, \"tickcolor\": \"rgb(237,237,237)\", \"ticklen\": 6, \"ticks\": \"inside\"}}, \"type\": \"scattergl\"}], \"scattermapbox\": [{\"marker\": {\"colorbar\": {\"outlinewidth\": 0, \"tickcolor\": \"rgb(237,237,237)\", \"ticklen\": 6, \"ticks\": \"inside\"}}, \"type\": \"scattermapbox\"}], \"scatterpolar\": [{\"marker\": {\"colorbar\": {\"outlinewidth\": 0, \"tickcolor\": \"rgb(237,237,237)\", \"ticklen\": 6, \"ticks\": \"inside\"}}, \"type\": \"scatterpolar\"}], \"scatterpolargl\": [{\"marker\": {\"colorbar\": {\"outlinewidth\": 0, \"tickcolor\": \"rgb(237,237,237)\", \"ticklen\": 6, \"ticks\": \"inside\"}}, \"type\": \"scatterpolargl\"}], \"scatterternary\": [{\"marker\": {\"colorbar\": {\"outlinewidth\": 0, \"tickcolor\": \"rgb(237,237,237)\", \"ticklen\": 6, \"ticks\": \"inside\"}}, \"type\": \"scatterternary\"}], \"surface\": [{\"colorbar\": {\"outlinewidth\": 0, \"tickcolor\": \"rgb(237,237,237)\", \"ticklen\": 6, \"ticks\": \"inside\"}, \"colorscale\": [[0, \"rgb(20,44,66)\"], [1, \"rgb(90,179,244)\"]], \"type\": \"surface\"}], \"table\": [{\"cells\": {\"fill\": {\"color\": \"rgb(237,237,237)\"}, \"line\": {\"color\": \"white\"}}, \"header\": {\"fill\": {\"color\": \"rgb(217,217,217)\"}, \"line\": {\"color\": \"white\"}}, \"type\": \"table\"}]}, \"layout\": {\"annotationdefaults\": {\"arrowhead\": 0, \"arrowwidth\": 1}, \"coloraxis\": {\"colorbar\": {\"outlinewidth\": 0, \"tickcolor\": \"rgb(237,237,237)\", \"ticklen\": 6, \"ticks\": \"inside\"}}, \"colorscale\": {\"sequential\": [[0, \"rgb(20,44,66)\"], [1, \"rgb(90,179,244)\"]], \"sequentialminus\": [[0, \"rgb(20,44,66)\"], [1, \"rgb(90,179,244)\"]]}, \"colorway\": [\"#F8766D\", \"#A3A500\", \"#00BF7D\", \"#00B0F6\", \"#E76BF3\"], \"font\": {\"color\": \"rgb(51,51,51)\"}, \"geo\": {\"bgcolor\": \"white\", \"lakecolor\": \"white\", \"landcolor\": \"rgb(237,237,237)\", \"showlakes\": true, \"showland\": true, \"subunitcolor\": \"white\"}, \"hoverlabel\": {\"align\": \"left\"}, \"hovermode\": \"closest\", \"paper_bgcolor\": \"white\", \"plot_bgcolor\": \"rgb(237,237,237)\", \"polar\": {\"angularaxis\": {\"gridcolor\": \"white\", \"linecolor\": \"white\", \"showgrid\": true, \"tickcolor\": \"rgb(51,51,51)\", \"ticks\": \"outside\"}, \"bgcolor\": \"rgb(237,237,237)\", \"radialaxis\": {\"gridcolor\": \"white\", \"linecolor\": \"white\", \"showgrid\": true, \"tickcolor\": \"rgb(51,51,51)\", \"ticks\": \"outside\"}}, \"scene\": {\"xaxis\": {\"backgroundcolor\": \"rgb(237,237,237)\", \"gridcolor\": \"white\", \"gridwidth\": 2, \"linecolor\": \"white\", \"showbackground\": true, \"showgrid\": true, \"tickcolor\": \"rgb(51,51,51)\", \"ticks\": \"outside\", \"zerolinecolor\": \"white\"}, \"yaxis\": {\"backgroundcolor\": \"rgb(237,237,237)\", \"gridcolor\": \"white\", \"gridwidth\": 2, \"linecolor\": \"white\", \"showbackground\": true, \"showgrid\": true, \"tickcolor\": \"rgb(51,51,51)\", \"ticks\": \"outside\", \"zerolinecolor\": \"white\"}, \"zaxis\": {\"backgroundcolor\": \"rgb(237,237,237)\", \"gridcolor\": \"white\", \"gridwidth\": 2, \"linecolor\": \"white\", \"showbackground\": true, \"showgrid\": true, \"tickcolor\": \"rgb(51,51,51)\", \"ticks\": \"outside\", \"zerolinecolor\": \"white\"}}, \"shapedefaults\": {\"fillcolor\": \"black\", \"line\": {\"width\": 0}, \"opacity\": 0.3}, \"ternary\": {\"aaxis\": {\"gridcolor\": \"white\", \"linecolor\": \"white\", \"showgrid\": true, \"tickcolor\": \"rgb(51,51,51)\", \"ticks\": \"outside\"}, \"baxis\": {\"gridcolor\": \"white\", \"linecolor\": \"white\", \"showgrid\": true, \"tickcolor\": \"rgb(51,51,51)\", \"ticks\": \"outside\"}, \"bgcolor\": \"rgb(237,237,237)\", \"caxis\": {\"gridcolor\": \"white\", \"linecolor\": \"white\", \"showgrid\": true, \"tickcolor\": \"rgb(51,51,51)\", \"ticks\": \"outside\"}}, \"xaxis\": {\"automargin\": true, \"gridcolor\": \"white\", \"linecolor\": \"white\", \"showgrid\": true, \"tickcolor\": \"rgb(51,51,51)\", \"ticks\": \"outside\", \"title\": {\"standoff\": 15}, \"zerolinecolor\": \"white\"}, \"yaxis\": {\"automargin\": true, \"gridcolor\": \"white\", \"linecolor\": \"white\", \"showgrid\": true, \"tickcolor\": \"rgb(51,51,51)\", \"ticks\": \"outside\", \"title\": {\"standoff\": 15}, \"zerolinecolor\": \"white\"}}}, \"xaxis\": {\"anchor\": \"y\", \"domain\": [0.0, 1.0], \"title\": {\"text\": \"x\"}}, \"yaxis\": {\"anchor\": \"x\", \"domain\": [0.0, 1.0], \"title\": {\"text\": \"y\"}}},\n",
              "                        {\"responsive\": true}\n",
              "                    ).then(function(){\n",
              "                            \n",
              "var gd = document.getElementById('7f92d0d8-60c8-4b83-acec-c4211ae9ee2e');\n",
              "var x = new MutationObserver(function (mutations, observer) {{\n",
              "        var display = window.getComputedStyle(gd).display;\n",
              "        if (!display || display === 'none') {{\n",
              "            console.log([gd, 'removed!']);\n",
              "            Plotly.purge(gd);\n",
              "            observer.disconnect();\n",
              "        }}\n",
              "}});\n",
              "\n",
              "// Listen for the removal of the full notebook cells\n",
              "var notebookContainer = gd.closest('#notebook-container');\n",
              "if (notebookContainer) {{\n",
              "    x.observe(notebookContainer, {childList: true});\n",
              "}}\n",
              "\n",
              "// Listen for the clearing of the current output cell\n",
              "var outputEl = gd.closest('.output');\n",
              "if (outputEl) {{\n",
              "    x.observe(outputEl, {childList: true});\n",
              "}}\n",
              "\n",
              "                        })\n",
              "                };\n",
              "                \n",
              "            </script>\n",
              "        </div>\n",
              "</body>\n",
              "</html>"
            ]
          },
          "metadata": {
            "tags": []
          }
        }
      ]
    },
    {
      "cell_type": "markdown",
      "metadata": {
        "id": "Rm5D-uF3u3A2"
      },
      "source": []
    }
  ]
}